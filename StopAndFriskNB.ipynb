{
  "nbformat": 4,
  "nbformat_minor": 0,
  "metadata": {
    "kernelspec": {
      "display_name": "Python 3",
      "language": "python",
      "name": "python3"
    },
    "language_info": {
      "codemirror_mode": {
        "name": "ipython",
        "version": 3
      },
      "file_extension": ".py",
      "mimetype": "text/x-python",
      "name": "python",
      "nbconvert_exporter": "python",
      "pygments_lexer": "ipython3",
      "version": "3.6.8"
    },
    "colab": {
      "name": "StopAndFriskNB.ipynb",
      "provenance": [],
      "include_colab_link": true
    }
  },
  "cells": [
    {
      "cell_type": "markdown",
      "metadata": {
        "id": "view-in-github",
        "colab_type": "text"
      },
      "source": [
        "<a href=\"https://colab.research.google.com/github/nyleashraf/NYPD-Stop-and-Frisk/blob/master/StopAndFriskNB.ipynb\" target=\"_parent\"><img src=\"https://colab.research.google.com/assets/colab-badge.svg\" alt=\"Open In Colab\"/></a>"
      ]
    },
    {
      "cell_type": "markdown",
      "metadata": {
        "id": "oH303lnUVbVu",
        "colab_type": "text"
      },
      "source": [
        "## <center> New York City Stop and Frisk Program </center>\n",
        "### <center> CS329E Elements of Data Analytics\n",
        "#### <center> Project members: Anna Williams, Zizhuo (Xavier) Dong, Nyle Ashraf, Alexandra Smith </center>\n",
        "\n",
        "This data is collected from [New York City Stop and Frisk Program](https://public.enigma.com/browse/tag/policing/101) dataset. It should be noted that every record in this dataset is a person that has been stopped in New York City. \n"
      ]
    },
    {
      "cell_type": "code",
      "metadata": {
        "id": "BmQMcqx7VbVw",
        "colab_type": "code",
        "colab": {}
      },
      "source": [
        "import warnings\n",
        "warnings.simplefilter(\"ignore\")\n",
        "import pandas as pd\n",
        "import numpy as np\n",
        "import sklearn as sk\n",
        "import matplotlib.pyplot as plt\n",
        "from sklearn.preprocessing import StandardScaler\n",
        "from sklearn.preprocessing import MinMaxScaler\n",
        "from sklearn.model_selection import train_test_split\n",
        "from sklearn.decomposition import PCA\n",
        "from sklearn.tree import DecisionTreeClassifier\n",
        "from sklearn.ensemble import RandomForestClassifier\n",
        "from sklearn.metrics import accuracy_score\n",
        "from sklearn.metrics import confusion_matrix, roc_auc_score, roc_curve, classification_report\n",
        "from sklearn.model_selection import cross_val_score,cross_val_predict\n",
        "from sklearn.model_selection import GroupKFold\n",
        "from sklearn.model_selection import GridSearchCV\n",
        "from sklearn.naive_bayes import GaussianNB\n",
        "import time\n",
        "import pickle\n",
        "import os"
      ],
      "execution_count": 0,
      "outputs": []
    },
    {
      "cell_type": "code",
      "metadata": {
        "id": "zyW3wkFHVbV4",
        "colab_type": "code",
        "colab": {}
      },
      "source": [
        "wd = os.getcwd()"
      ],
      "execution_count": 0,
      "outputs": []
    },
    {
      "cell_type": "markdown",
      "metadata": {
        "id": "R31yArpgVbV-",
        "colab_type": "text"
      },
      "source": [
        "**Import all data sets**"
      ]
    },
    {
      "cell_type": "code",
      "metadata": {
        "id": "GP1I6acGVbV_",
        "colab_type": "code",
        "colab": {}
      },
      "source": [
        "data1 = pd.read_csv(wd + '/data/NYPD_SF_2003.csv')\n",
        "data2 = pd.read_csv(wd + '/data/NYPD_SF_2005.csv')\n",
        "data3 = pd.read_csv(wd + '/data/NYPD_SF_2006.csv')\n",
        "data4 = pd.read_csv(wd + '/data/NYPD_SF_2009.csv')\n",
        "data5 = pd.read_csv(wd + '/data/NYPD_SF_2010.csv')\n",
        "data6 = pd.read_csv(wd + '/data/NYPD_SF_2011.csv')\n",
        "data7 = pd.read_csv(wd + '/data/NYPD_SF_2012.csv')"
      ],
      "execution_count": 0,
      "outputs": []
    },
    {
      "cell_type": "markdown",
      "metadata": {
        "id": "xgPUKL8UVbWD",
        "colab_type": "text"
      },
      "source": [
        "**Some datasets include 113 features, while others include 114 features. In order to easily merge the datasets into one dataframe, we will need to identify the common features and merge only those features.**"
      ]
    },
    {
      "cell_type": "code",
      "metadata": {
        "id": "JLXxMk4tVbWD",
        "colab_type": "code",
        "colab": {},
        "outputId": "d9f20255-d93d-4798-eff0-3d95ae564efb"
      },
      "source": [
        "from functools import reduce\n",
        "features1 = data1.columns.get_values()\n",
        "features2 = data2.columns.get_values()\n",
        "features3 = data3.columns.get_values()\n",
        "features4 = data4.columns.get_values()\n",
        "features5 = data5.columns.get_values()\n",
        "features6 = data6.columns.get_values()\n",
        "features7 = data7.columns.get_values()\n",
        "common_features = reduce(np.intersect1d, (features1, features2, features3, features4, features5, features6, features7))\n",
        "print(common_features)\n",
        "print(\"Number of common features: \", common_features.size)"
      ],
      "execution_count": 0,
      "outputs": [
        {
          "output_type": "stream",
          "text": [
            "['ac_assoc' 'ac_cgdir' 'ac_evasv' 'ac_incid' 'ac_inves' 'ac_other'\n",
            " 'ac_proxm' 'ac_rept' 'ac_stsnd' 'ac_time' 'addrnum' 'addrpct' 'addrtyp'\n",
            " 'adtlrept' 'age' 'aptnum' 'arstmade' 'arstoffn' 'asltweap' 'beat' 'build'\n",
            " 'city' 'comppct' 'compyear' 'contrabn' 'crimsusp' 'crossst' 'cs_bulge'\n",
            " 'cs_casng' 'cs_cloth' 'cs_descr' 'cs_drgtr' 'cs_furtv' 'cs_lkout'\n",
            " 'cs_objcs' 'cs_other' 'cs_vcrim' 'datestop' 'dob' 'explnstp' 'eyecolor'\n",
            " 'frisked' 'haircolr' 'ht_feet' 'ht_inch' 'inout' 'knifcuti' 'machgun'\n",
            " 'officrid' 'offshld' 'offunif' 'offverb' 'othfeatr' 'othpers' 'othrweap'\n",
            " 'pct' 'perobs' 'perstop' 'pf_baton' 'pf_drwep' 'pf_grnd' 'pf_hands'\n",
            " 'pf_hcuff' 'pf_other' 'pf_pepsp' 'pf_ptwep' 'pf_wall' 'pistol' 'post'\n",
            " 'premname' 'premtype' 'race' 'radio' 'recstat' 'repcmd' 'rescode'\n",
            " 'revcmd' 'rf_attir' 'rf_bulg' 'rf_furt' 'rf_knowl' 'rf_othsw' 'rf_rfcmp'\n",
            " 'rf_vcact' 'rf_vcrim' 'rf_verbl' 'riflshot' 'sb_admis' 'sb_hdobj'\n",
            " 'sb_other' 'sb_outln' 'searched' 'sector' 'ser_num' 'serialid' 'sex'\n",
            " 'state' 'stinter' 'stname' 'sumissue' 'sumoffen' 'timestop' 'trhsloc'\n",
            " 'typeofid' 'weight' 'x' 'xcoord' 'ycoord' 'year' 'zip']\n",
            "Number of common features:  110\n"
          ],
          "name": "stdout"
        }
      ]
    },
    {
      "cell_type": "code",
      "metadata": {
        "id": "DZmlMgEqVbWI",
        "colab_type": "code",
        "colab": {}
      },
      "source": [
        "datasets = [data1, data2, data3, data4, data5, data6, data7]\n",
        "for dataset in datasets:\n",
        "    dataset = dataset[common_features]\n"
      ],
      "execution_count": 0,
      "outputs": []
    },
    {
      "cell_type": "markdown",
      "metadata": {
        "id": "buxKa3sCVbWK",
        "colab_type": "text"
      },
      "source": [
        "**Although we have removed the non-common features from the data for each year, we are still not ready to append the individual dataframes into one larger dataframe. The ordering of columns in each dataframe needs to be consistent before we bring them together.**"
      ]
    },
    {
      "cell_type": "code",
      "metadata": {
        "id": "ak8Fjy9pVbWL",
        "colab_type": "code",
        "colab": {}
      },
      "source": [
        "columns = data1.columns.tolist()\n",
        "for dataframe in datasets: \n",
        "    dataframe = dataframe.loc[:, columns]"
      ],
      "execution_count": 0,
      "outputs": []
    },
    {
      "cell_type": "code",
      "metadata": {
        "id": "VaGoEOiaVbWN",
        "colab_type": "code",
        "colab": {},
        "outputId": "b78e526c-64a3-4685-edef-9a0c7124374e"
      },
      "source": [
        "for dataset in datasets: \n",
        "    counter = 0\n",
        "    if dataset.columns[counter] != columns[counter]:\n",
        "        raise Exception(\"Column ordering not consistent.\")\n",
        "    else:\n",
        "        counter += 1\n",
        "print(\"All datasets consistent with our ordering.\")"
      ],
      "execution_count": 0,
      "outputs": [
        {
          "output_type": "stream",
          "text": [
            "All datasets consistent with our ordering.\n"
          ],
          "name": "stdout"
        }
      ]
    },
    {
      "cell_type": "code",
      "metadata": {
        "id": "Jl4kkwEqVbWQ",
        "colab_type": "code",
        "colab": {},
        "outputId": "7e6f4c87-ee76-48a6-b374-11ad00058924"
      },
      "source": [
        "dataframe = pd.concat(datasets, ignore_index = True)\n",
        "dataframe = dataframe.loc[:, columns]\n",
        "print(\"Shape of combined dataframe: \", dataframe.shape)\n",
        "dataframe.head()"
      ],
      "execution_count": 0,
      "outputs": [
        {
          "output_type": "stream",
          "text": [
            "Shape of combined dataframe:  (3466621, 113)\n"
          ],
          "name": "stdout"
        },
        {
          "output_type": "execute_result",
          "data": {
            "text/html": [
              "<div>\n",
              "<style scoped>\n",
              "    .dataframe tbody tr th:only-of-type {\n",
              "        vertical-align: middle;\n",
              "    }\n",
              "\n",
              "    .dataframe tbody tr th {\n",
              "        vertical-align: top;\n",
              "    }\n",
              "\n",
              "    .dataframe thead th {\n",
              "        text-align: right;\n",
              "    }\n",
              "</style>\n",
              "<table border=\"1\" class=\"dataframe\">\n",
              "  <thead>\n",
              "    <tr style=\"text-align: right;\">\n",
              "      <th></th>\n",
              "      <th>x</th>\n",
              "      <th>year</th>\n",
              "      <th>pct</th>\n",
              "      <th>ser_num</th>\n",
              "      <th>datestop</th>\n",
              "      <th>timestop</th>\n",
              "      <th>recstat</th>\n",
              "      <th>inout</th>\n",
              "      <th>trhsloc</th>\n",
              "      <th>perobs</th>\n",
              "      <th>...</th>\n",
              "      <th>addrpct</th>\n",
              "      <th>sector</th>\n",
              "      <th>beat</th>\n",
              "      <th>post</th>\n",
              "      <th>xcoord</th>\n",
              "      <th>ycoord</th>\n",
              "      <th>dettypcm</th>\n",
              "      <th>linecm</th>\n",
              "      <th>detailcm</th>\n",
              "      <th>serialid</th>\n",
              "    </tr>\n",
              "  </thead>\n",
              "  <tbody>\n",
              "    <tr>\n",
              "      <th>0</th>\n",
              "      <td>10500</td>\n",
              "      <td>2003</td>\n",
              "      <td>108.0</td>\n",
              "      <td>168.0</td>\n",
              "      <td>2003-01-23T00:00:00</td>\n",
              "      <td>12:10</td>\n",
              "      <td>NaN</td>\n",
              "      <td>O</td>\n",
              "      <td>NaN</td>\n",
              "      <td>10.0</td>\n",
              "      <td>...</td>\n",
              "      <td>NaN</td>\n",
              "      <td>NaN</td>\n",
              "      <td>NaN</td>\n",
              "      <td>NaN</td>\n",
              "      <td>NaN</td>\n",
              "      <td>NaN</td>\n",
              "      <td>NaN</td>\n",
              "      <td>NaN</td>\n",
              "      <td>NaN</td>\n",
              "      <td>10501</td>\n",
              "    </tr>\n",
              "    <tr>\n",
              "      <th>1</th>\n",
              "      <td>10501</td>\n",
              "      <td>2003</td>\n",
              "      <td>107.0</td>\n",
              "      <td>230.0</td>\n",
              "      <td>2003-01-23T00:00:00</td>\n",
              "      <td>12:10</td>\n",
              "      <td>NaN</td>\n",
              "      <td>O</td>\n",
              "      <td>NaN</td>\n",
              "      <td>5.0</td>\n",
              "      <td>...</td>\n",
              "      <td>NaN</td>\n",
              "      <td>NaN</td>\n",
              "      <td>NaN</td>\n",
              "      <td>NaN</td>\n",
              "      <td>NaN</td>\n",
              "      <td>NaN</td>\n",
              "      <td>NaN</td>\n",
              "      <td>NaN</td>\n",
              "      <td>NaN</td>\n",
              "      <td>10502</td>\n",
              "    </tr>\n",
              "    <tr>\n",
              "      <th>2</th>\n",
              "      <td>8341</td>\n",
              "      <td>2003</td>\n",
              "      <td>33.0</td>\n",
              "      <td>162.0</td>\n",
              "      <td>2003-01-18T00:00:00</td>\n",
              "      <td>00:02</td>\n",
              "      <td>NaN</td>\n",
              "      <td>O</td>\n",
              "      <td>NaN</td>\n",
              "      <td>1.0</td>\n",
              "      <td>...</td>\n",
              "      <td>NaN</td>\n",
              "      <td>NaN</td>\n",
              "      <td>NaN</td>\n",
              "      <td>NaN</td>\n",
              "      <td>NaN</td>\n",
              "      <td>NaN</td>\n",
              "      <td>NaN</td>\n",
              "      <td>NaN</td>\n",
              "      <td>NaN</td>\n",
              "      <td>8342</td>\n",
              "    </tr>\n",
              "    <tr>\n",
              "      <th>3</th>\n",
              "      <td>9812</td>\n",
              "      <td>2003</td>\n",
              "      <td>70.0</td>\n",
              "      <td>189.0</td>\n",
              "      <td>2003-01-21T00:00:00</td>\n",
              "      <td>21:10</td>\n",
              "      <td>NaN</td>\n",
              "      <td>O</td>\n",
              "      <td>NaN</td>\n",
              "      <td>2.0</td>\n",
              "      <td>...</td>\n",
              "      <td>NaN</td>\n",
              "      <td>NaN</td>\n",
              "      <td>NaN</td>\n",
              "      <td>NaN</td>\n",
              "      <td>NaN</td>\n",
              "      <td>NaN</td>\n",
              "      <td>NaN</td>\n",
              "      <td>NaN</td>\n",
              "      <td>NaN</td>\n",
              "      <td>9812</td>\n",
              "    </tr>\n",
              "    <tr>\n",
              "      <th>4</th>\n",
              "      <td>7455</td>\n",
              "      <td>2003</td>\n",
              "      <td>114.0</td>\n",
              "      <td>125.0</td>\n",
              "      <td>2003-01-16T00:00:00</td>\n",
              "      <td>15:15</td>\n",
              "      <td>NaN</td>\n",
              "      <td>O</td>\n",
              "      <td>NaN</td>\n",
              "      <td>1.0</td>\n",
              "      <td>...</td>\n",
              "      <td>NaN</td>\n",
              "      <td>NaN</td>\n",
              "      <td>NaN</td>\n",
              "      <td>NaN</td>\n",
              "      <td>NaN</td>\n",
              "      <td>NaN</td>\n",
              "      <td>NaN</td>\n",
              "      <td>NaN</td>\n",
              "      <td>NaN</td>\n",
              "      <td>7455</td>\n",
              "    </tr>\n",
              "  </tbody>\n",
              "</table>\n",
              "<p>5 rows × 113 columns</p>\n",
              "</div>"
            ],
            "text/plain": [
              "       x  year    pct  ser_num             datestop timestop recstat inout  \\\n",
              "0  10500  2003  108.0    168.0  2003-01-23T00:00:00    12:10     NaN     O   \n",
              "1  10501  2003  107.0    230.0  2003-01-23T00:00:00    12:10     NaN     O   \n",
              "2   8341  2003   33.0    162.0  2003-01-18T00:00:00    00:02     NaN     O   \n",
              "3   9812  2003   70.0    189.0  2003-01-21T00:00:00    21:10     NaN     O   \n",
              "4   7455  2003  114.0    125.0  2003-01-16T00:00:00    15:15     NaN     O   \n",
              "\n",
              "  trhsloc  perobs  ... addrpct  sector beat post xcoord ycoord dettypcm  \\\n",
              "0     NaN    10.0  ...     NaN     NaN  NaN  NaN    NaN    NaN      NaN   \n",
              "1     NaN     5.0  ...     NaN     NaN  NaN  NaN    NaN    NaN      NaN   \n",
              "2     NaN     1.0  ...     NaN     NaN  NaN  NaN    NaN    NaN      NaN   \n",
              "3     NaN     2.0  ...     NaN     NaN  NaN  NaN    NaN    NaN      NaN   \n",
              "4     NaN     1.0  ...     NaN     NaN  NaN  NaN    NaN    NaN      NaN   \n",
              "\n",
              "  linecm detailcm  serialid  \n",
              "0    NaN      NaN     10501  \n",
              "1    NaN      NaN     10502  \n",
              "2    NaN      NaN      8342  \n",
              "3    NaN      NaN      9812  \n",
              "4    NaN      NaN      7455  \n",
              "\n",
              "[5 rows x 113 columns]"
            ]
          },
          "metadata": {
            "tags": []
          },
          "execution_count": 8
        }
      ]
    },
    {
      "cell_type": "markdown",
      "metadata": {
        "id": "qFGux5wnVbWS",
        "colab_type": "text"
      },
      "source": [
        "### **Data Exploration**\n",
        "\n",
        "During this segement, we explore the distribution of our data. We want to find: \n",
        "- Significant or notable values\n",
        "- Outliers/Noise \n",
        "- NaN enumeration \n",
        "\n",
        "Now that we have built one dataframe with all of our data points, we can begin feature engineering by: (1) creating new, useful features from those that currently exist, and (2) removing features that are either not useful or contain excessive null values."
      ]
    },
    {
      "cell_type": "markdown",
      "metadata": {
        "id": "3vOn0ySfVbWS",
        "colab_type": "text"
      },
      "source": [
        "#### **Null values and Datatypes**"
      ]
    },
    {
      "cell_type": "code",
      "metadata": {
        "id": "KVaKwddyVbWS",
        "colab_type": "code",
        "colab": {},
        "outputId": "e399f0c7-48fd-40ed-a0f5-830117dc905c"
      },
      "source": [
        "dataframe_expl = dataframe.copy()\n",
        "dataframe.dtypes"
      ],
      "execution_count": 0,
      "outputs": [
        {
          "output_type": "execute_result",
          "data": {
            "text/plain": [
              "x             int64\n",
              "year          int64\n",
              "pct         float64\n",
              "ser_num     float64\n",
              "datestop     object\n",
              "             ...   \n",
              "ycoord      float64\n",
              "dettypcm     object\n",
              "linecm      float64\n",
              "detailcm    float64\n",
              "serialid      int64\n",
              "Length: 113, dtype: object"
            ]
          },
          "metadata": {
            "tags": []
          },
          "execution_count": 14
        }
      ]
    },
    {
      "cell_type": "code",
      "metadata": {
        "id": "HwCbDOpCVbWU",
        "colab_type": "code",
        "colab": {},
        "outputId": "4066f5b2-22d8-4e5b-8481-ab91fe5e955e"
      },
      "source": [
        "print('Total number of null values', dataframe_expl.isnull().values.sum())"
      ],
      "execution_count": 0,
      "outputs": [
        {
          "output_type": "stream",
          "text": [
            "Total number of null values 52772347\n"
          ],
          "name": "stdout"
        }
      ]
    },
    {
      "cell_type": "code",
      "metadata": {
        "id": "7gn7LPyqVbWW",
        "colab_type": "code",
        "colab": {},
        "outputId": "4b03ee4d-971c-47a8-dda5-6773658c7b14"
      },
      "source": [
        "# The records that have no null values\n",
        "# may not be useful\n",
        "no_nas= (dataframe_expl.loc[:,dataframe_expl.isnull().sum() == 0])\n",
        "print(no_nas.shape)\n",
        "no_nas"
      ],
      "execution_count": 0,
      "outputs": [
        {
          "output_type": "stream",
          "text": [
            "(3466621, 60)\n"
          ],
          "name": "stdout"
        },
        {
          "output_type": "execute_result",
          "data": {
            "text/html": [
              "<div>\n",
              "<style scoped>\n",
              "    .dataframe tbody tr th:only-of-type {\n",
              "        vertical-align: middle;\n",
              "    }\n",
              "\n",
              "    .dataframe tbody tr th {\n",
              "        vertical-align: top;\n",
              "    }\n",
              "\n",
              "    .dataframe thead th {\n",
              "        text-align: right;\n",
              "    }\n",
              "</style>\n",
              "<table border=\"1\" class=\"dataframe\">\n",
              "  <thead>\n",
              "    <tr style=\"text-align: right;\">\n",
              "      <th></th>\n",
              "      <th>x</th>\n",
              "      <th>year</th>\n",
              "      <th>explnstp</th>\n",
              "      <th>othpers</th>\n",
              "      <th>arstmade</th>\n",
              "      <th>sumissue</th>\n",
              "      <th>frisked</th>\n",
              "      <th>searched</th>\n",
              "      <th>contrabn</th>\n",
              "      <th>adtlrept</th>\n",
              "      <th>...</th>\n",
              "      <th>rf_knowl</th>\n",
              "      <th>ac_stsnd</th>\n",
              "      <th>ac_other</th>\n",
              "      <th>sb_hdobj</th>\n",
              "      <th>sb_outln</th>\n",
              "      <th>sb_admis</th>\n",
              "      <th>sb_other</th>\n",
              "      <th>rf_furt</th>\n",
              "      <th>rf_bulg</th>\n",
              "      <th>serialid</th>\n",
              "    </tr>\n",
              "  </thead>\n",
              "  <tbody>\n",
              "    <tr>\n",
              "      <th>0</th>\n",
              "      <td>10500</td>\n",
              "      <td>2003</td>\n",
              "      <td>Y</td>\n",
              "      <td>Y</td>\n",
              "      <td>N</td>\n",
              "      <td>N</td>\n",
              "      <td>N</td>\n",
              "      <td>N</td>\n",
              "      <td>N</td>\n",
              "      <td>N</td>\n",
              "      <td>...</td>\n",
              "      <td>N</td>\n",
              "      <td>N</td>\n",
              "      <td>N</td>\n",
              "      <td>N</td>\n",
              "      <td>N</td>\n",
              "      <td>N</td>\n",
              "      <td>N</td>\n",
              "      <td>N</td>\n",
              "      <td>N</td>\n",
              "      <td>10501</td>\n",
              "    </tr>\n",
              "    <tr>\n",
              "      <th>1</th>\n",
              "      <td>10501</td>\n",
              "      <td>2003</td>\n",
              "      <td>Y</td>\n",
              "      <td>Y</td>\n",
              "      <td>Y</td>\n",
              "      <td>N</td>\n",
              "      <td>Y</td>\n",
              "      <td>N</td>\n",
              "      <td>Y</td>\n",
              "      <td>N</td>\n",
              "      <td>...</td>\n",
              "      <td>N</td>\n",
              "      <td>N</td>\n",
              "      <td>N</td>\n",
              "      <td>N</td>\n",
              "      <td>N</td>\n",
              "      <td>N</td>\n",
              "      <td>N</td>\n",
              "      <td>N</td>\n",
              "      <td>Y</td>\n",
              "      <td>10502</td>\n",
              "    </tr>\n",
              "    <tr>\n",
              "      <th>2</th>\n",
              "      <td>8341</td>\n",
              "      <td>2003</td>\n",
              "      <td>Y</td>\n",
              "      <td>N</td>\n",
              "      <td>N</td>\n",
              "      <td>N</td>\n",
              "      <td>Y</td>\n",
              "      <td>N</td>\n",
              "      <td>N</td>\n",
              "      <td>N</td>\n",
              "      <td>...</td>\n",
              "      <td>N</td>\n",
              "      <td>N</td>\n",
              "      <td>N</td>\n",
              "      <td>N</td>\n",
              "      <td>N</td>\n",
              "      <td>N</td>\n",
              "      <td>N</td>\n",
              "      <td>N</td>\n",
              "      <td>N</td>\n",
              "      <td>8342</td>\n",
              "    </tr>\n",
              "    <tr>\n",
              "      <th>3</th>\n",
              "      <td>9812</td>\n",
              "      <td>2003</td>\n",
              "      <td>Y</td>\n",
              "      <td>N</td>\n",
              "      <td>N</td>\n",
              "      <td>N</td>\n",
              "      <td>N</td>\n",
              "      <td>N</td>\n",
              "      <td>N</td>\n",
              "      <td>N</td>\n",
              "      <td>...</td>\n",
              "      <td>N</td>\n",
              "      <td>N</td>\n",
              "      <td>N</td>\n",
              "      <td>N</td>\n",
              "      <td>N</td>\n",
              "      <td>N</td>\n",
              "      <td>N</td>\n",
              "      <td>N</td>\n",
              "      <td>N</td>\n",
              "      <td>9812</td>\n",
              "    </tr>\n",
              "    <tr>\n",
              "      <th>4</th>\n",
              "      <td>7455</td>\n",
              "      <td>2003</td>\n",
              "      <td>Y</td>\n",
              "      <td>Y</td>\n",
              "      <td>N</td>\n",
              "      <td>N</td>\n",
              "      <td>N</td>\n",
              "      <td>N</td>\n",
              "      <td>N</td>\n",
              "      <td>N</td>\n",
              "      <td>...</td>\n",
              "      <td>N</td>\n",
              "      <td>N</td>\n",
              "      <td>N</td>\n",
              "      <td>N</td>\n",
              "      <td>N</td>\n",
              "      <td>N</td>\n",
              "      <td>N</td>\n",
              "      <td>N</td>\n",
              "      <td>N</td>\n",
              "      <td>7455</td>\n",
              "    </tr>\n",
              "    <tr>\n",
              "      <th>...</th>\n",
              "      <td>...</td>\n",
              "      <td>...</td>\n",
              "      <td>...</td>\n",
              "      <td>...</td>\n",
              "      <td>...</td>\n",
              "      <td>...</td>\n",
              "      <td>...</td>\n",
              "      <td>...</td>\n",
              "      <td>...</td>\n",
              "      <td>...</td>\n",
              "      <td>...</td>\n",
              "      <td>...</td>\n",
              "      <td>...</td>\n",
              "      <td>...</td>\n",
              "      <td>...</td>\n",
              "      <td>...</td>\n",
              "      <td>...</td>\n",
              "      <td>...</td>\n",
              "      <td>...</td>\n",
              "      <td>...</td>\n",
              "      <td>...</td>\n",
              "    </tr>\n",
              "    <tr>\n",
              "      <th>3466616</th>\n",
              "      <td>46252</td>\n",
              "      <td>2012</td>\n",
              "      <td>Y</td>\n",
              "      <td>N</td>\n",
              "      <td>N</td>\n",
              "      <td>N</td>\n",
              "      <td>N</td>\n",
              "      <td>N</td>\n",
              "      <td>N</td>\n",
              "      <td>N</td>\n",
              "      <td>...</td>\n",
              "      <td>N</td>\n",
              "      <td>N</td>\n",
              "      <td>N</td>\n",
              "      <td>N</td>\n",
              "      <td>N</td>\n",
              "      <td>N</td>\n",
              "      <td>N</td>\n",
              "      <td>N</td>\n",
              "      <td>N</td>\n",
              "      <td>46252</td>\n",
              "    </tr>\n",
              "    <tr>\n",
              "      <th>3466617</th>\n",
              "      <td>46253</td>\n",
              "      <td>2012</td>\n",
              "      <td>Y</td>\n",
              "      <td>N</td>\n",
              "      <td>N</td>\n",
              "      <td>N</td>\n",
              "      <td>Y</td>\n",
              "      <td>Y</td>\n",
              "      <td>N</td>\n",
              "      <td>N</td>\n",
              "      <td>...</td>\n",
              "      <td>Y</td>\n",
              "      <td>N</td>\n",
              "      <td>N</td>\n",
              "      <td>Y</td>\n",
              "      <td>N</td>\n",
              "      <td>N</td>\n",
              "      <td>N</td>\n",
              "      <td>Y</td>\n",
              "      <td>N</td>\n",
              "      <td>46253</td>\n",
              "    </tr>\n",
              "    <tr>\n",
              "      <th>3466618</th>\n",
              "      <td>46254</td>\n",
              "      <td>2012</td>\n",
              "      <td>Y</td>\n",
              "      <td>N</td>\n",
              "      <td>N</td>\n",
              "      <td>N</td>\n",
              "      <td>N</td>\n",
              "      <td>N</td>\n",
              "      <td>N</td>\n",
              "      <td>N</td>\n",
              "      <td>...</td>\n",
              "      <td>N</td>\n",
              "      <td>N</td>\n",
              "      <td>N</td>\n",
              "      <td>N</td>\n",
              "      <td>N</td>\n",
              "      <td>N</td>\n",
              "      <td>N</td>\n",
              "      <td>N</td>\n",
              "      <td>N</td>\n",
              "      <td>46254</td>\n",
              "    </tr>\n",
              "    <tr>\n",
              "      <th>3466619</th>\n",
              "      <td>46949</td>\n",
              "      <td>2012</td>\n",
              "      <td>Y</td>\n",
              "      <td>N</td>\n",
              "      <td>N</td>\n",
              "      <td>N</td>\n",
              "      <td>N</td>\n",
              "      <td>N</td>\n",
              "      <td>N</td>\n",
              "      <td>N</td>\n",
              "      <td>...</td>\n",
              "      <td>N</td>\n",
              "      <td>N</td>\n",
              "      <td>N</td>\n",
              "      <td>N</td>\n",
              "      <td>N</td>\n",
              "      <td>N</td>\n",
              "      <td>N</td>\n",
              "      <td>N</td>\n",
              "      <td>N</td>\n",
              "      <td>46949</td>\n",
              "    </tr>\n",
              "    <tr>\n",
              "      <th>3466620</th>\n",
              "      <td>46256</td>\n",
              "      <td>2012</td>\n",
              "      <td>Y</td>\n",
              "      <td>N</td>\n",
              "      <td>N</td>\n",
              "      <td>N</td>\n",
              "      <td>N</td>\n",
              "      <td>N</td>\n",
              "      <td>N</td>\n",
              "      <td>N</td>\n",
              "      <td>...</td>\n",
              "      <td>N</td>\n",
              "      <td>N</td>\n",
              "      <td>N</td>\n",
              "      <td>N</td>\n",
              "      <td>N</td>\n",
              "      <td>N</td>\n",
              "      <td>N</td>\n",
              "      <td>N</td>\n",
              "      <td>N</td>\n",
              "      <td>46256</td>\n",
              "    </tr>\n",
              "  </tbody>\n",
              "</table>\n",
              "<p>3466621 rows × 60 columns</p>\n",
              "</div>"
            ],
            "text/plain": [
              "             x  year explnstp othpers arstmade sumissue frisked searched  \\\n",
              "0        10500  2003        Y       Y        N        N       N        N   \n",
              "1        10501  2003        Y       Y        Y        N       Y        N   \n",
              "2         8341  2003        Y       N        N        N       Y        N   \n",
              "3         9812  2003        Y       N        N        N       N        N   \n",
              "4         7455  2003        Y       Y        N        N       N        N   \n",
              "...        ...   ...      ...     ...      ...      ...     ...      ...   \n",
              "3466616  46252  2012        Y       N        N        N       N        N   \n",
              "3466617  46253  2012        Y       N        N        N       Y        Y   \n",
              "3466618  46254  2012        Y       N        N        N       N        N   \n",
              "3466619  46949  2012        Y       N        N        N       N        N   \n",
              "3466620  46256  2012        Y       N        N        N       N        N   \n",
              "\n",
              "        contrabn adtlrept  ... rf_knowl ac_stsnd ac_other sb_hdobj sb_outln  \\\n",
              "0              N        N  ...        N        N        N        N        N   \n",
              "1              Y        N  ...        N        N        N        N        N   \n",
              "2              N        N  ...        N        N        N        N        N   \n",
              "3              N        N  ...        N        N        N        N        N   \n",
              "4              N        N  ...        N        N        N        N        N   \n",
              "...          ...      ...  ...      ...      ...      ...      ...      ...   \n",
              "3466616        N        N  ...        N        N        N        N        N   \n",
              "3466617        N        N  ...        Y        N        N        Y        N   \n",
              "3466618        N        N  ...        N        N        N        N        N   \n",
              "3466619        N        N  ...        N        N        N        N        N   \n",
              "3466620        N        N  ...        N        N        N        N        N   \n",
              "\n",
              "        sb_admis sb_other rf_furt rf_bulg serialid  \n",
              "0              N        N       N       N    10501  \n",
              "1              N        N       N       Y    10502  \n",
              "2              N        N       N       N     8342  \n",
              "3              N        N       N       N     9812  \n",
              "4              N        N       N       N     7455  \n",
              "...          ...      ...     ...     ...      ...  \n",
              "3466616        N        N       N       N    46252  \n",
              "3466617        N        N       Y       N    46253  \n",
              "3466618        N        N       N       N    46254  \n",
              "3466619        N        N       N       N    46949  \n",
              "3466620        N        N       N       N    46256  \n",
              "\n",
              "[3466621 rows x 60 columns]"
            ]
          },
          "metadata": {
            "tags": []
          },
          "execution_count": 16
        }
      ]
    },
    {
      "cell_type": "code",
      "metadata": {
        "id": "HCQKqjx5VbWY",
        "colab_type": "code",
        "colab": {},
        "outputId": "aa0449ea-3d3c-462a-a86a-3c63937edd4c"
      },
      "source": [
        "print('General information about the data frame')\n",
        "dataframe_expl.info()"
      ],
      "execution_count": 0,
      "outputs": [
        {
          "output_type": "stream",
          "text": [
            "General information about the data frame\n",
            "<class 'pandas.core.frame.DataFrame'>\n",
            "RangeIndex: 3466621 entries, 0 to 3466620\n",
            "Columns: 113 entries, x to serialid\n",
            "dtypes: float64(18), int64(3), object(92)\n",
            "memory usage: 2.9+ GB\n"
          ],
          "name": "stdout"
        }
      ]
    },
    {
      "cell_type": "code",
      "metadata": {
        "id": "I52B6eNSVbWZ",
        "colab_type": "code",
        "colab": {},
        "outputId": "ddbd3d25-feb0-42d9-b0b2-fc40ba6a861b"
      },
      "source": [
        "# Dataframe of all columns with atleast one null value.\n",
        "columns_with_nulls = dataframe_expl.loc[:,dataframe_expl.isnull().any()]\n",
        "columns_with_nulls"
      ],
      "execution_count": 0,
      "outputs": [
        {
          "output_type": "execute_result",
          "data": {
            "text/html": [
              "<div>\n",
              "<style scoped>\n",
              "    .dataframe tbody tr th:only-of-type {\n",
              "        vertical-align: middle;\n",
              "    }\n",
              "\n",
              "    .dataframe tbody tr th {\n",
              "        vertical-align: top;\n",
              "    }\n",
              "\n",
              "    .dataframe thead th {\n",
              "        text-align: right;\n",
              "    }\n",
              "</style>\n",
              "<table border=\"1\" class=\"dataframe\">\n",
              "  <thead>\n",
              "    <tr style=\"text-align: right;\">\n",
              "      <th></th>\n",
              "      <th>pct</th>\n",
              "      <th>ser_num</th>\n",
              "      <th>datestop</th>\n",
              "      <th>timestop</th>\n",
              "      <th>recstat</th>\n",
              "      <th>inout</th>\n",
              "      <th>trhsloc</th>\n",
              "      <th>perobs</th>\n",
              "      <th>crimsusp</th>\n",
              "      <th>perstop</th>\n",
              "      <th>...</th>\n",
              "      <th>zip</th>\n",
              "      <th>addrpct</th>\n",
              "      <th>sector</th>\n",
              "      <th>beat</th>\n",
              "      <th>post</th>\n",
              "      <th>xcoord</th>\n",
              "      <th>ycoord</th>\n",
              "      <th>dettypcm</th>\n",
              "      <th>linecm</th>\n",
              "      <th>detailcm</th>\n",
              "    </tr>\n",
              "  </thead>\n",
              "  <tbody>\n",
              "    <tr>\n",
              "      <th>0</th>\n",
              "      <td>108.0</td>\n",
              "      <td>168.0</td>\n",
              "      <td>2003-01-23T00:00:00</td>\n",
              "      <td>12:10</td>\n",
              "      <td>NaN</td>\n",
              "      <td>O</td>\n",
              "      <td>NaN</td>\n",
              "      <td>10.0</td>\n",
              "      <td>ASSAULT</td>\n",
              "      <td>15.0</td>\n",
              "      <td>...</td>\n",
              "      <td>NaN</td>\n",
              "      <td>NaN</td>\n",
              "      <td>NaN</td>\n",
              "      <td>NaN</td>\n",
              "      <td>NaN</td>\n",
              "      <td>NaN</td>\n",
              "      <td>NaN</td>\n",
              "      <td>NaN</td>\n",
              "      <td>NaN</td>\n",
              "      <td>NaN</td>\n",
              "    </tr>\n",
              "    <tr>\n",
              "      <th>1</th>\n",
              "      <td>107.0</td>\n",
              "      <td>230.0</td>\n",
              "      <td>2003-01-23T00:00:00</td>\n",
              "      <td>12:10</td>\n",
              "      <td>NaN</td>\n",
              "      <td>O</td>\n",
              "      <td>NaN</td>\n",
              "      <td>5.0</td>\n",
              "      <td>BURGLARY</td>\n",
              "      <td>5.0</td>\n",
              "      <td>...</td>\n",
              "      <td>NaN</td>\n",
              "      <td>NaN</td>\n",
              "      <td>NaN</td>\n",
              "      <td>NaN</td>\n",
              "      <td>NaN</td>\n",
              "      <td>NaN</td>\n",
              "      <td>NaN</td>\n",
              "      <td>NaN</td>\n",
              "      <td>NaN</td>\n",
              "      <td>NaN</td>\n",
              "    </tr>\n",
              "    <tr>\n",
              "      <th>2</th>\n",
              "      <td>33.0</td>\n",
              "      <td>162.0</td>\n",
              "      <td>2003-01-18T00:00:00</td>\n",
              "      <td>00:02</td>\n",
              "      <td>NaN</td>\n",
              "      <td>O</td>\n",
              "      <td>NaN</td>\n",
              "      <td>1.0</td>\n",
              "      <td>GUN RUN</td>\n",
              "      <td>3.0</td>\n",
              "      <td>...</td>\n",
              "      <td>NaN</td>\n",
              "      <td>NaN</td>\n",
              "      <td>NaN</td>\n",
              "      <td>NaN</td>\n",
              "      <td>NaN</td>\n",
              "      <td>NaN</td>\n",
              "      <td>NaN</td>\n",
              "      <td>NaN</td>\n",
              "      <td>NaN</td>\n",
              "      <td>NaN</td>\n",
              "    </tr>\n",
              "    <tr>\n",
              "      <th>3</th>\n",
              "      <td>70.0</td>\n",
              "      <td>189.0</td>\n",
              "      <td>2003-01-21T00:00:00</td>\n",
              "      <td>21:10</td>\n",
              "      <td>NaN</td>\n",
              "      <td>O</td>\n",
              "      <td>NaN</td>\n",
              "      <td>2.0</td>\n",
              "      <td>CSCS</td>\n",
              "      <td>1.0</td>\n",
              "      <td>...</td>\n",
              "      <td>NaN</td>\n",
              "      <td>NaN</td>\n",
              "      <td>NaN</td>\n",
              "      <td>NaN</td>\n",
              "      <td>NaN</td>\n",
              "      <td>NaN</td>\n",
              "      <td>NaN</td>\n",
              "      <td>NaN</td>\n",
              "      <td>NaN</td>\n",
              "      <td>NaN</td>\n",
              "    </tr>\n",
              "    <tr>\n",
              "      <th>4</th>\n",
              "      <td>114.0</td>\n",
              "      <td>125.0</td>\n",
              "      <td>2003-01-16T00:00:00</td>\n",
              "      <td>15:15</td>\n",
              "      <td>NaN</td>\n",
              "      <td>O</td>\n",
              "      <td>NaN</td>\n",
              "      <td>1.0</td>\n",
              "      <td>ROBBERY</td>\n",
              "      <td>10.0</td>\n",
              "      <td>...</td>\n",
              "      <td>NaN</td>\n",
              "      <td>NaN</td>\n",
              "      <td>NaN</td>\n",
              "      <td>NaN</td>\n",
              "      <td>NaN</td>\n",
              "      <td>NaN</td>\n",
              "      <td>NaN</td>\n",
              "      <td>NaN</td>\n",
              "      <td>NaN</td>\n",
              "      <td>NaN</td>\n",
              "    </tr>\n",
              "    <tr>\n",
              "      <th>...</th>\n",
              "      <td>...</td>\n",
              "      <td>...</td>\n",
              "      <td>...</td>\n",
              "      <td>...</td>\n",
              "      <td>...</td>\n",
              "      <td>...</td>\n",
              "      <td>...</td>\n",
              "      <td>...</td>\n",
              "      <td>...</td>\n",
              "      <td>...</td>\n",
              "      <td>...</td>\n",
              "      <td>...</td>\n",
              "      <td>...</td>\n",
              "      <td>...</td>\n",
              "      <td>...</td>\n",
              "      <td>...</td>\n",
              "      <td>...</td>\n",
              "      <td>...</td>\n",
              "      <td>...</td>\n",
              "      <td>...</td>\n",
              "      <td>...</td>\n",
              "    </tr>\n",
              "    <tr>\n",
              "      <th>3466616</th>\n",
              "      <td>48.0</td>\n",
              "      <td>474.0</td>\n",
              "      <td>2012-01-22T00:00:00</td>\n",
              "      <td>119</td>\n",
              "      <td>A</td>\n",
              "      <td>O</td>\n",
              "      <td>P</td>\n",
              "      <td>1.0</td>\n",
              "      <td>ROBBERY</td>\n",
              "      <td>2.0</td>\n",
              "      <td>...</td>\n",
              "      <td>NaN</td>\n",
              "      <td>48.0</td>\n",
              "      <td>E</td>\n",
              "      <td>*</td>\n",
              "      <td>NaN</td>\n",
              "      <td>1017155.0</td>\n",
              "      <td>247299.0</td>\n",
              "      <td>CM</td>\n",
              "      <td>1.0</td>\n",
              "      <td>85.0</td>\n",
              "    </tr>\n",
              "    <tr>\n",
              "      <th>3466617</th>\n",
              "      <td>1.0</td>\n",
              "      <td>221.0</td>\n",
              "      <td>2012-01-22T00:00:00</td>\n",
              "      <td>119</td>\n",
              "      <td>A</td>\n",
              "      <td>O</td>\n",
              "      <td>P</td>\n",
              "      <td>1.0</td>\n",
              "      <td>GRAND LARCENY</td>\n",
              "      <td>5.0</td>\n",
              "      <td>...</td>\n",
              "      <td>NaN</td>\n",
              "      <td>1.0</td>\n",
              "      <td>I</td>\n",
              "      <td>NaN</td>\n",
              "      <td>NaN</td>\n",
              "      <td>982962.0</td>\n",
              "      <td>203381.0</td>\n",
              "      <td>CM</td>\n",
              "      <td>1.0</td>\n",
              "      <td>45.0</td>\n",
              "    </tr>\n",
              "    <tr>\n",
              "      <th>3466618</th>\n",
              "      <td>42.0</td>\n",
              "      <td>573.0</td>\n",
              "      <td>2012-01-22T00:00:00</td>\n",
              "      <td>120</td>\n",
              "      <td>A</td>\n",
              "      <td>O</td>\n",
              "      <td>P</td>\n",
              "      <td>30.0</td>\n",
              "      <td>GLA</td>\n",
              "      <td>5.0</td>\n",
              "      <td>...</td>\n",
              "      <td>NaN</td>\n",
              "      <td>42.0</td>\n",
              "      <td>D</td>\n",
              "      <td>NaN</td>\n",
              "      <td>NaN</td>\n",
              "      <td>NaN</td>\n",
              "      <td>NaN</td>\n",
              "      <td>CM</td>\n",
              "      <td>1.0</td>\n",
              "      <td>46.0</td>\n",
              "    </tr>\n",
              "    <tr>\n",
              "      <th>3466619</th>\n",
              "      <td>44.0</td>\n",
              "      <td>1351.0</td>\n",
              "      <td>2012-01-22T00:00:00</td>\n",
              "      <td>1545</td>\n",
              "      <td>A</td>\n",
              "      <td>O</td>\n",
              "      <td>P</td>\n",
              "      <td>5.0</td>\n",
              "      <td>ROBBERY</td>\n",
              "      <td>5.0</td>\n",
              "      <td>...</td>\n",
              "      <td>NaN</td>\n",
              "      <td>44.0</td>\n",
              "      <td>F</td>\n",
              "      <td>NaN</td>\n",
              "      <td>NaN</td>\n",
              "      <td>1007022.0</td>\n",
              "      <td>243322.0</td>\n",
              "      <td>CM</td>\n",
              "      <td>1.0</td>\n",
              "      <td>85.0</td>\n",
              "    </tr>\n",
              "    <tr>\n",
              "      <th>3466620</th>\n",
              "      <td>42.0</td>\n",
              "      <td>637.0</td>\n",
              "      <td>2012-01-22T00:00:00</td>\n",
              "      <td>120</td>\n",
              "      <td>1</td>\n",
              "      <td>I</td>\n",
              "      <td>H</td>\n",
              "      <td>0.0</td>\n",
              "      <td>CPM</td>\n",
              "      <td>5.0</td>\n",
              "      <td>...</td>\n",
              "      <td>NaN</td>\n",
              "      <td>42.0</td>\n",
              "      <td>H</td>\n",
              "      <td>NaN</td>\n",
              "      <td>NaN</td>\n",
              "      <td>1010793.0</td>\n",
              "      <td>239891.0</td>\n",
              "      <td>CM</td>\n",
              "      <td>1.0</td>\n",
              "      <td>27.0</td>\n",
              "    </tr>\n",
              "  </tbody>\n",
              "</table>\n",
              "<p>3466621 rows × 53 columns</p>\n",
              "</div>"
            ],
            "text/plain": [
              "           pct  ser_num             datestop timestop recstat inout trhsloc  \\\n",
              "0        108.0    168.0  2003-01-23T00:00:00    12:10     NaN     O     NaN   \n",
              "1        107.0    230.0  2003-01-23T00:00:00    12:10     NaN     O     NaN   \n",
              "2         33.0    162.0  2003-01-18T00:00:00    00:02     NaN     O     NaN   \n",
              "3         70.0    189.0  2003-01-21T00:00:00    21:10     NaN     O     NaN   \n",
              "4        114.0    125.0  2003-01-16T00:00:00    15:15     NaN     O     NaN   \n",
              "...        ...      ...                  ...      ...     ...   ...     ...   \n",
              "3466616   48.0    474.0  2012-01-22T00:00:00      119       A     O       P   \n",
              "3466617    1.0    221.0  2012-01-22T00:00:00      119       A     O       P   \n",
              "3466618   42.0    573.0  2012-01-22T00:00:00      120       A     O       P   \n",
              "3466619   44.0   1351.0  2012-01-22T00:00:00     1545       A     O       P   \n",
              "3466620   42.0    637.0  2012-01-22T00:00:00      120       1     I       H   \n",
              "\n",
              "         perobs       crimsusp  perstop  ...  zip addrpct sector  beat  post  \\\n",
              "0          10.0        ASSAULT     15.0  ...  NaN     NaN    NaN   NaN   NaN   \n",
              "1           5.0       BURGLARY      5.0  ...  NaN     NaN    NaN   NaN   NaN   \n",
              "2           1.0        GUN RUN      3.0  ...  NaN     NaN    NaN   NaN   NaN   \n",
              "3           2.0           CSCS      1.0  ...  NaN     NaN    NaN   NaN   NaN   \n",
              "4           1.0        ROBBERY     10.0  ...  NaN     NaN    NaN   NaN   NaN   \n",
              "...         ...            ...      ...  ...  ...     ...    ...   ...   ...   \n",
              "3466616     1.0        ROBBERY      2.0  ...  NaN    48.0      E     *   NaN   \n",
              "3466617     1.0  GRAND LARCENY      5.0  ...  NaN     1.0      I   NaN   NaN   \n",
              "3466618    30.0            GLA      5.0  ...  NaN    42.0      D   NaN   NaN   \n",
              "3466619     5.0        ROBBERY      5.0  ...  NaN    44.0      F   NaN   NaN   \n",
              "3466620     0.0            CPM      5.0  ...  NaN    42.0      H   NaN   NaN   \n",
              "\n",
              "            xcoord    ycoord dettypcm linecm detailcm  \n",
              "0              NaN       NaN      NaN    NaN      NaN  \n",
              "1              NaN       NaN      NaN    NaN      NaN  \n",
              "2              NaN       NaN      NaN    NaN      NaN  \n",
              "3              NaN       NaN      NaN    NaN      NaN  \n",
              "4              NaN       NaN      NaN    NaN      NaN  \n",
              "...            ...       ...      ...    ...      ...  \n",
              "3466616  1017155.0  247299.0       CM    1.0     85.0  \n",
              "3466617   982962.0  203381.0       CM    1.0     45.0  \n",
              "3466618        NaN       NaN       CM    1.0     46.0  \n",
              "3466619  1007022.0  243322.0       CM    1.0     85.0  \n",
              "3466620  1010793.0  239891.0       CM    1.0     27.0  \n",
              "\n",
              "[3466621 rows x 53 columns]"
            ]
          },
          "metadata": {
            "tags": []
          },
          "execution_count": 18
        }
      ]
    },
    {
      "cell_type": "markdown",
      "metadata": {
        "id": "76leezQ3VbWb",
        "colab_type": "text"
      },
      "source": [
        "#### **Distribution of the data by race and build**"
      ]
    },
    {
      "cell_type": "code",
      "metadata": {
        "id": "5hxbFr9nVbWb",
        "colab_type": "code",
        "colab": {},
        "outputId": "e4e08ce8-6663-4566-d498-325330a19e8d"
      },
      "source": [
        "print('All possible values in race column', dataframe_expl['race'].unique())"
      ],
      "execution_count": 0,
      "outputs": [
        {
          "output_type": "stream",
          "text": [
            "All possible values in race column ['Q' 'W' 'B' 'P' 'A' 'Z' 'I' nan 'X' 'U']\n"
          ],
          "name": "stdout"
        }
      ]
    },
    {
      "cell_type": "code",
      "metadata": {
        "id": "NJX59BSRVbWd",
        "colab_type": "code",
        "colab": {},
        "outputId": "03983dac-3bb3-42ce-ccb8-44fa059ef2ea"
      },
      "source": [
        "fig3, ax3 = plt.subplots()\n",
        "labels = list(dataframe['race'].unique())\n",
        "num_Q=dataframe['race'].value_counts()['Q']\n",
        "num_W=dataframe['race'].value_counts()['W']\n",
        "num_B=dataframe['race'].value_counts()['B']\n",
        "num_P=dataframe['race'].value_counts()['P']\n",
        "num_A=dataframe['race'].value_counts()['A']\n",
        "num_Z=dataframe['race'].value_counts()['Z']\n",
        "num_I=dataframe['race'].value_counts()['I']\n",
        "num_X=dataframe['race'].value_counts()['X']\n",
        "num_U=dataframe['race'].value_counts()['U']\n",
        "num_na=dataframe['sex'].isna().sum()\n",
        "sizes = [num_Q, num_W,num_B,num_P,num_A,num_Z,num_I,num_X,num_U,num_na]\n",
        "wedges, texts, autotexts=ax3.pie(sizes, labels = labels, autopct='%1.1f%%', shadow=True)\n",
        "ax3.legend(wedges, labels, title='Race', loc=\"upper right\", bbox_to_anchor=(1,0,0.5,1))\n",
        "plt.show()"
      ],
      "execution_count": 0,
      "outputs": [
        {
          "output_type": "display_data",
          "data": {
            "image/png": "[encoded data removed]",
            "text/plain": [
              "<matplotlib.figure.Figure at 0x7fbce98aff60>"
            ]
          },
          "metadata": {
            "tags": []
          }
        }
      ]
    },
    {
      "cell_type": "markdown",
      "metadata": {
        "id": "lQfCmWLYVbWe",
        "colab_type": "text"
      },
      "source": [
        "#### **Distribution of records by Month**\n",
        "##### **Note that this by all months between 2003-2012**\n",
        "\n",
        "We discussed the possibility that stops in NYC may have a trend corresponding with seasonality. This analysis has led to the conclusion that the dataset is well distributed across all months."
      ]
    },
    {
      "cell_type": "code",
      "metadata": {
        "id": "mOyb2lVOVbWf",
        "colab_type": "code",
        "colab": {}
      },
      "source": [
        "values = dataframe_expl['datestop'].map(lambda x: x[5:7], na_action='ignore')\n",
        "dataframe_expl.insert(5, 'month', values, allow_duplicates=True)"
      ],
      "execution_count": 0,
      "outputs": []
    },
    {
      "cell_type": "code",
      "metadata": {
        "id": "tkrJpaZCVbWg",
        "colab_type": "code",
        "colab": {},
        "outputId": "2264fb5d-9ee8-4080-a6ea-bbff968325b9"
      },
      "source": [
        "print(dataframe_expl.shape)\n",
        "\n",
        "months = ['01', '02', '03','04', '05','06','07','08','09','10','11','12']"
      ],
      "execution_count": 0,
      "outputs": [
        {
          "output_type": "stream",
          "text": [
            "(3466621, 114)\n"
          ],
          "name": "stdout"
        }
      ]
    },
    {
      "cell_type": "code",
      "metadata": {
        "id": "LveC1AeIVbWi",
        "colab_type": "code",
        "colab": {},
        "outputId": "00d10ee4-25ab-46ae-ad36-ed68fec8c89a"
      },
      "source": [
        "fig2, ax2 = plt.subplots()\n",
        "\n",
        "plt.ylabel('Number of Records')\n",
        "plt.xlabel('Month Number')\n",
        "plt.title('Number of records per month')\n",
        "ax2 = plt.bar(months, dataframe_expl['month'].value_counts())"
      ],
      "execution_count": 0,
      "outputs": [
        {
          "output_type": "display_data",
          "data": {
            "image/png": "[encoded data removed]",
            "text/plain": [
              "<matplotlib.figure.Figure at 0x7fbd1fa58da0>"
            ]
          },
          "metadata": {
            "tags": [],
            "needs_background": "light"
          }
        }
      ]
    },
    {
      "cell_type": "markdown",
      "metadata": {
        "id": "5uygOkbFVbWj",
        "colab_type": "text"
      },
      "source": [
        "#### **Distribution of the data by Frisked and Searched**\n",
        "\n",
        "After an introduction to the data, we realize that perhaps the most important attribute from this dataset is among those that will be stopped can we predict that they will be frisked (pat down). Thus, we examine the representation of the datapoints that have been frisked and have been searched. \n",
        "\n",
        "What we learn from this segment is that the among the records, the frisked attribute is well distributed with respect to its categories \"Y\" or \"N\". Thus, we decide to create a classifier that will: Given that record X has Y features, will record X be frisked?  "
      ]
    },
    {
      "cell_type": "code",
      "metadata": {
        "id": "H7fsDzIZVbWk",
        "colab_type": "code",
        "colab": {}
      },
      "source": [
        "frisked=dataframe['frisked'].value_counts()\n",
        "searched=dataframe['searched'].value_counts()"
      ],
      "execution_count": 0,
      "outputs": []
    },
    {
      "cell_type": "code",
      "metadata": {
        "id": "oYGZkSLDVbWl",
        "colab_type": "code",
        "colab": {}
      },
      "source": [
        "# create a pir chart of percent that were frisked by race. We have divided this by the race \n",
        "# B and not B. \n",
        "race_select = dataframe.loc[dataframe['race']=='B']\n",
        "race_select_c = dataframe.loc[dataframe['race']!='B']"
      ],
      "execution_count": 0,
      "outputs": []
    },
    {
      "cell_type": "code",
      "metadata": {
        "id": "va6qZUApVbWm",
        "colab_type": "code",
        "colab": {},
        "outputId": "0bd8dff1-0c34-4e0b-e00e-84196544e43e"
      },
      "source": [
        "\n",
        "fig5, ax5 = plt.subplots()\n",
        "labels = ['B', 'Not B']\n",
        "num_frisked_B = race_select['frisked'].value_counts()[1]\n",
        "num_frisked_not_B=race_select_c['frisked'].value_counts()[1]\n",
        "sizes = [num_frisked_B, num_frisked_not_B]\n",
        "wedges, texts, autotexts=ax5.pie(sizes, labels = labels, autopct='%1.1f%%', shadow=True)\n",
        "ax5.legend(wedges, labels, title='Race', loc=\"upper right\", bbox_to_anchor=(1,0,0.5,1))\n",
        "plt.title('Percent that were Frisked By Race')\n",
        "plt.show()"
      ],
      "execution_count": 0,
      "outputs": [
        {
          "output_type": "display_data",
          "data": {
            "image/png": "[encoded data removed]",
            "text/plain": [
              "<matplotlib.figure.Figure at 0x7fbd1fa10630>"
            ]
          },
          "metadata": {
            "tags": []
          }
        }
      ]
    },
    {
      "cell_type": "code",
      "metadata": {
        "id": "tD3uqkc3VbWn",
        "colab_type": "code",
        "colab": {},
        "outputId": "41ff4ece-5e15-46e9-979b-805ec7e2b979"
      },
      "source": [
        "frisked"
      ],
      "execution_count": 0,
      "outputs": [
        {
          "output_type": "execute_result",
          "data": {
            "text/plain": [
              "Y      1588217\n",
              "N      1371913\n",
              "NO      289312\n",
              "YES     217179\n",
              "Name: frisked, dtype: int64"
            ]
          },
          "metadata": {
            "tags": []
          },
          "execution_count": 27
        }
      ]
    },
    {
      "cell_type": "code",
      "metadata": {
        "id": "SdIEVVJWVbWp",
        "colab_type": "code",
        "colab": {},
        "outputId": "27be88a6-5202-400d-b94d-6416d9a48d6d"
      },
      "source": [
        "searched"
      ],
      "execution_count": 0,
      "outputs": [
        {
          "output_type": "execute_result",
          "data": {
            "text/plain": [
              "N      2707037\n",
              "NO      472275\n",
              "Y       253093\n",
              "YES      34216\n",
              "Name: searched, dtype: int64"
            ]
          },
          "metadata": {
            "tags": []
          },
          "execution_count": 28
        }
      ]
    },
    {
      "cell_type": "markdown",
      "metadata": {
        "id": "HTFh2QLiVbWq",
        "colab_type": "text"
      },
      "source": [
        "### **Data Cleaning**"
      ]
    },
    {
      "cell_type": "markdown",
      "metadata": {
        "id": "m8EcpLbhVbWq",
        "colab_type": "text"
      },
      "source": [
        "*Convert height to inches*"
      ]
    },
    {
      "cell_type": "code",
      "metadata": {
        "id": "M3dVVBgvVbWr",
        "colab_type": "code",
        "colab": {},
        "outputId": "c4c2635d-62f8-4d33-bf32-22f01486846b"
      },
      "source": [
        "#convert height to inches\n",
        "dataframe['height'] = 12 * dataframe['ht_feet'] + dataframe['ht_inch']\n",
        "dataframe.drop(['ht_feet', 'ht_inch'], axis=1, inplace=True)\n",
        "dataframe.head()"
      ],
      "execution_count": 0,
      "outputs": [
        {
          "output_type": "execute_result",
          "data": {
            "text/html": [
              "<div>\n",
              "<style scoped>\n",
              "    .dataframe tbody tr th:only-of-type {\n",
              "        vertical-align: middle;\n",
              "    }\n",
              "\n",
              "    .dataframe tbody tr th {\n",
              "        vertical-align: top;\n",
              "    }\n",
              "\n",
              "    .dataframe thead th {\n",
              "        text-align: right;\n",
              "    }\n",
              "</style>\n",
              "<table border=\"1\" class=\"dataframe\">\n",
              "  <thead>\n",
              "    <tr style=\"text-align: right;\">\n",
              "      <th></th>\n",
              "      <th>x</th>\n",
              "      <th>year</th>\n",
              "      <th>pct</th>\n",
              "      <th>ser_num</th>\n",
              "      <th>datestop</th>\n",
              "      <th>timestop</th>\n",
              "      <th>recstat</th>\n",
              "      <th>inout</th>\n",
              "      <th>trhsloc</th>\n",
              "      <th>perobs</th>\n",
              "      <th>...</th>\n",
              "      <th>sector</th>\n",
              "      <th>beat</th>\n",
              "      <th>post</th>\n",
              "      <th>xcoord</th>\n",
              "      <th>ycoord</th>\n",
              "      <th>dettypcm</th>\n",
              "      <th>linecm</th>\n",
              "      <th>detailcm</th>\n",
              "      <th>serialid</th>\n",
              "      <th>height</th>\n",
              "    </tr>\n",
              "  </thead>\n",
              "  <tbody>\n",
              "    <tr>\n",
              "      <th>0</th>\n",
              "      <td>10500</td>\n",
              "      <td>2003</td>\n",
              "      <td>108.0</td>\n",
              "      <td>168.0</td>\n",
              "      <td>2003-01-23T00:00:00</td>\n",
              "      <td>12:10</td>\n",
              "      <td>NaN</td>\n",
              "      <td>O</td>\n",
              "      <td>NaN</td>\n",
              "      <td>10.0</td>\n",
              "      <td>...</td>\n",
              "      <td>NaN</td>\n",
              "      <td>NaN</td>\n",
              "      <td>NaN</td>\n",
              "      <td>NaN</td>\n",
              "      <td>NaN</td>\n",
              "      <td>NaN</td>\n",
              "      <td>NaN</td>\n",
              "      <td>NaN</td>\n",
              "      <td>10501</td>\n",
              "      <td>68.0</td>\n",
              "    </tr>\n",
              "    <tr>\n",
              "      <th>1</th>\n",
              "      <td>10501</td>\n",
              "      <td>2003</td>\n",
              "      <td>107.0</td>\n",
              "      <td>230.0</td>\n",
              "      <td>2003-01-23T00:00:00</td>\n",
              "      <td>12:10</td>\n",
              "      <td>NaN</td>\n",
              "      <td>O</td>\n",
              "      <td>NaN</td>\n",
              "      <td>5.0</td>\n",
              "      <td>...</td>\n",
              "      <td>NaN</td>\n",
              "      <td>NaN</td>\n",
              "      <td>NaN</td>\n",
              "      <td>NaN</td>\n",
              "      <td>NaN</td>\n",
              "      <td>NaN</td>\n",
              "      <td>NaN</td>\n",
              "      <td>NaN</td>\n",
              "      <td>10502</td>\n",
              "      <td>69.0</td>\n",
              "    </tr>\n",
              "    <tr>\n",
              "      <th>2</th>\n",
              "      <td>8341</td>\n",
              "      <td>2003</td>\n",
              "      <td>33.0</td>\n",
              "      <td>162.0</td>\n",
              "      <td>2003-01-18T00:00:00</td>\n",
              "      <td>00:02</td>\n",
              "      <td>NaN</td>\n",
              "      <td>O</td>\n",
              "      <td>NaN</td>\n",
              "      <td>1.0</td>\n",
              "      <td>...</td>\n",
              "      <td>NaN</td>\n",
              "      <td>NaN</td>\n",
              "      <td>NaN</td>\n",
              "      <td>NaN</td>\n",
              "      <td>NaN</td>\n",
              "      <td>NaN</td>\n",
              "      <td>NaN</td>\n",
              "      <td>NaN</td>\n",
              "      <td>8342</td>\n",
              "      <td>70.0</td>\n",
              "    </tr>\n",
              "    <tr>\n",
              "      <th>3</th>\n",
              "      <td>9812</td>\n",
              "      <td>2003</td>\n",
              "      <td>70.0</td>\n",
              "      <td>189.0</td>\n",
              "      <td>2003-01-21T00:00:00</td>\n",
              "      <td>21:10</td>\n",
              "      <td>NaN</td>\n",
              "      <td>O</td>\n",
              "      <td>NaN</td>\n",
              "      <td>2.0</td>\n",
              "      <td>...</td>\n",
              "      <td>NaN</td>\n",
              "      <td>NaN</td>\n",
              "      <td>NaN</td>\n",
              "      <td>NaN</td>\n",
              "      <td>NaN</td>\n",
              "      <td>NaN</td>\n",
              "      <td>NaN</td>\n",
              "      <td>NaN</td>\n",
              "      <td>9812</td>\n",
              "      <td>68.0</td>\n",
              "    </tr>\n",
              "    <tr>\n",
              "      <th>4</th>\n",
              "      <td>7455</td>\n",
              "      <td>2003</td>\n",
              "      <td>114.0</td>\n",
              "      <td>125.0</td>\n",
              "      <td>2003-01-16T00:00:00</td>\n",
              "      <td>15:15</td>\n",
              "      <td>NaN</td>\n",
              "      <td>O</td>\n",
              "      <td>NaN</td>\n",
              "      <td>1.0</td>\n",
              "      <td>...</td>\n",
              "      <td>NaN</td>\n",
              "      <td>NaN</td>\n",
              "      <td>NaN</td>\n",
              "      <td>NaN</td>\n",
              "      <td>NaN</td>\n",
              "      <td>NaN</td>\n",
              "      <td>NaN</td>\n",
              "      <td>NaN</td>\n",
              "      <td>7455</td>\n",
              "      <td>70.0</td>\n",
              "    </tr>\n",
              "  </tbody>\n",
              "</table>\n",
              "<p>5 rows × 112 columns</p>\n",
              "</div>"
            ],
            "text/plain": [
              "       x  year    pct  ser_num             datestop timestop recstat inout  \\\n",
              "0  10500  2003  108.0    168.0  2003-01-23T00:00:00    12:10     NaN     O   \n",
              "1  10501  2003  107.0    230.0  2003-01-23T00:00:00    12:10     NaN     O   \n",
              "2   8341  2003   33.0    162.0  2003-01-18T00:00:00    00:02     NaN     O   \n",
              "3   9812  2003   70.0    189.0  2003-01-21T00:00:00    21:10     NaN     O   \n",
              "4   7455  2003  114.0    125.0  2003-01-16T00:00:00    15:15     NaN     O   \n",
              "\n",
              "  trhsloc  perobs  ... sector  beat post xcoord ycoord dettypcm linecm  \\\n",
              "0     NaN    10.0  ...    NaN   NaN  NaN    NaN    NaN      NaN    NaN   \n",
              "1     NaN     5.0  ...    NaN   NaN  NaN    NaN    NaN      NaN    NaN   \n",
              "2     NaN     1.0  ...    NaN   NaN  NaN    NaN    NaN      NaN    NaN   \n",
              "3     NaN     2.0  ...    NaN   NaN  NaN    NaN    NaN      NaN    NaN   \n",
              "4     NaN     1.0  ...    NaN   NaN  NaN    NaN    NaN      NaN    NaN   \n",
              "\n",
              "  detailcm serialid  height  \n",
              "0      NaN    10501    68.0  \n",
              "1      NaN    10502    69.0  \n",
              "2      NaN     8342    70.0  \n",
              "3      NaN     9812    68.0  \n",
              "4      NaN     7455    70.0  \n",
              "\n",
              "[5 rows x 112 columns]"
            ]
          },
          "metadata": {
            "tags": []
          },
          "execution_count": 9
        }
      ]
    },
    {
      "cell_type": "markdown",
      "metadata": {
        "id": "ekF1A_egVbWs",
        "colab_type": "text"
      },
      "source": [
        "*Bin date and time columns, binarize yes/no columns*"
      ]
    },
    {
      "cell_type": "code",
      "metadata": {
        "id": "NAzxZgz_VbWs",
        "colab_type": "code",
        "colab": {},
        "outputId": "dc3bdb03-8b56-4450-ddc4-024afa87418a"
      },
      "source": [
        "#Bin datestop by month and timestop by hour\n",
        "dataframe['datestop'] = pd.to_datetime(dataframe['datestop'])\n",
        "# date_dict = dict(zip(['01','02','03','04','05','06','07','08','09','10','11','12'],\n",
        "#                 ['January','February','March','April','May','June','July','August','September','October','November','December']))\n",
        "dataframe['datestop_month'] = dataframe['datestop'].dt.month\n",
        "dataframe['timestop_hour'] = dataframe['timestop'].replace(np.NaN, '00')\n",
        "dataframe['timestop_hour'] = dataframe['timestop_hour'].astype(str).apply(lambda x: x[0:2])\n",
        "hour_dict = dict(zip(['00','01','02','03','04','05','06','07','08','09','10','11','12','13','14','15','16','17','18','19','20','21','22','23'],\n",
        "                [0, 1, 2, 3, 4, 5, 6, 7, 8, 9, 10, 11, 12, 13, 14, 15, 16, 17, 18, 19, 20, 21, 21, 22, 23]))\n",
        "dataframe['timestop_hour'] = dataframe['timestop_hour'].map(hour_dict)\n",
        "\n",
        "#Map binary predictor features to 0 and 1\n",
        "inout_dict = dict(zip(['I','O'],[1, 0]))\n",
        "yesno_dict = dict(zip(['Y','YES','N','NO'],[1, 1, 0, 0]))\n",
        "sex_dict = dict(zip(['F','M'],[1, 0]))\n",
        "\n",
        "dataframe['inout'] = dataframe['inout'].map(inout_dict)\n",
        "dataframe['sex'] = dataframe['sex'].map(sex_dict)\n",
        "\n",
        "yesno_cols = ['explnstp', 'othpers', 'arstmade', 'offunif',\n",
        "       'frisked', 'searched', 'contrabn', 'pistol',\n",
        "       'riflshot', 'asltweap', 'knifcuti', 'machgun', 'othrweap',\n",
        "       'pf_hands', 'pf_wall', 'pf_grnd', 'pf_drwep', 'pf_ptwep',\n",
        "       'pf_baton', 'pf_hcuff', 'pf_pepsp', 'pf_other',\n",
        "       'ac_inves', 'rf_vcrim', 'rf_othsw', 'ac_proxm', 'rf_attir',\n",
        "       'cs_objcs', 'cs_descr', 'cs_casng', 'cs_lkout', 'rf_vcact',\n",
        "       'cs_cloth', 'cs_drgtr', 'ac_evasv', 'ac_assoc', 'cs_furtv',\n",
        "       'rf_rfcmp', 'ac_cgdir', 'rf_verbl', 'cs_vcrim', 'cs_bulge',\n",
        "       'cs_other', 'ac_incid', 'ac_time', 'rf_knowl', 'ac_stsnd',\n",
        "       'ac_other', 'sb_hdobj', 'sb_outln', 'sb_admis', 'sb_other',\n",
        "       'rf_furt', 'rf_bulg']\n",
        "\n",
        "for x in yesno_cols:\n",
        "    dataframe[x] = dataframe[x].map(yesno_dict)\n",
        "\n",
        "dataframe.head()"
      ],
      "execution_count": 0,
      "outputs": [
        {
          "output_type": "execute_result",
          "data": {
            "text/html": [
              "<div>\n",
              "<style scoped>\n",
              "    .dataframe tbody tr th:only-of-type {\n",
              "        vertical-align: middle;\n",
              "    }\n",
              "\n",
              "    .dataframe tbody tr th {\n",
              "        vertical-align: top;\n",
              "    }\n",
              "\n",
              "    .dataframe thead th {\n",
              "        text-align: right;\n",
              "    }\n",
              "</style>\n",
              "<table border=\"1\" class=\"dataframe\">\n",
              "  <thead>\n",
              "    <tr style=\"text-align: right;\">\n",
              "      <th></th>\n",
              "      <th>x</th>\n",
              "      <th>year</th>\n",
              "      <th>pct</th>\n",
              "      <th>ser_num</th>\n",
              "      <th>datestop</th>\n",
              "      <th>timestop</th>\n",
              "      <th>recstat</th>\n",
              "      <th>inout</th>\n",
              "      <th>trhsloc</th>\n",
              "      <th>perobs</th>\n",
              "      <th>...</th>\n",
              "      <th>post</th>\n",
              "      <th>xcoord</th>\n",
              "      <th>ycoord</th>\n",
              "      <th>dettypcm</th>\n",
              "      <th>linecm</th>\n",
              "      <th>detailcm</th>\n",
              "      <th>serialid</th>\n",
              "      <th>height</th>\n",
              "      <th>datestop_month</th>\n",
              "      <th>timestop_hour</th>\n",
              "    </tr>\n",
              "  </thead>\n",
              "  <tbody>\n",
              "    <tr>\n",
              "      <th>0</th>\n",
              "      <td>10500</td>\n",
              "      <td>2003</td>\n",
              "      <td>108.0</td>\n",
              "      <td>168.0</td>\n",
              "      <td>2003-01-23</td>\n",
              "      <td>12:10</td>\n",
              "      <td>NaN</td>\n",
              "      <td>0.0</td>\n",
              "      <td>NaN</td>\n",
              "      <td>10.0</td>\n",
              "      <td>...</td>\n",
              "      <td>NaN</td>\n",
              "      <td>NaN</td>\n",
              "      <td>NaN</td>\n",
              "      <td>NaN</td>\n",
              "      <td>NaN</td>\n",
              "      <td>NaN</td>\n",
              "      <td>10501</td>\n",
              "      <td>68.0</td>\n",
              "      <td>1.0</td>\n",
              "      <td>12.0</td>\n",
              "    </tr>\n",
              "    <tr>\n",
              "      <th>1</th>\n",
              "      <td>10501</td>\n",
              "      <td>2003</td>\n",
              "      <td>107.0</td>\n",
              "      <td>230.0</td>\n",
              "      <td>2003-01-23</td>\n",
              "      <td>12:10</td>\n",
              "      <td>NaN</td>\n",
              "      <td>0.0</td>\n",
              "      <td>NaN</td>\n",
              "      <td>5.0</td>\n",
              "      <td>...</td>\n",
              "      <td>NaN</td>\n",
              "      <td>NaN</td>\n",
              "      <td>NaN</td>\n",
              "      <td>NaN</td>\n",
              "      <td>NaN</td>\n",
              "      <td>NaN</td>\n",
              "      <td>10502</td>\n",
              "      <td>69.0</td>\n",
              "      <td>1.0</td>\n",
              "      <td>12.0</td>\n",
              "    </tr>\n",
              "    <tr>\n",
              "      <th>2</th>\n",
              "      <td>8341</td>\n",
              "      <td>2003</td>\n",
              "      <td>33.0</td>\n",
              "      <td>162.0</td>\n",
              "      <td>2003-01-18</td>\n",
              "      <td>00:02</td>\n",
              "      <td>NaN</td>\n",
              "      <td>0.0</td>\n",
              "      <td>NaN</td>\n",
              "      <td>1.0</td>\n",
              "      <td>...</td>\n",
              "      <td>NaN</td>\n",
              "      <td>NaN</td>\n",
              "      <td>NaN</td>\n",
              "      <td>NaN</td>\n",
              "      <td>NaN</td>\n",
              "      <td>NaN</td>\n",
              "      <td>8342</td>\n",
              "      <td>70.0</td>\n",
              "      <td>1.0</td>\n",
              "      <td>0.0</td>\n",
              "    </tr>\n",
              "    <tr>\n",
              "      <th>3</th>\n",
              "      <td>9812</td>\n",
              "      <td>2003</td>\n",
              "      <td>70.0</td>\n",
              "      <td>189.0</td>\n",
              "      <td>2003-01-21</td>\n",
              "      <td>21:10</td>\n",
              "      <td>NaN</td>\n",
              "      <td>0.0</td>\n",
              "      <td>NaN</td>\n",
              "      <td>2.0</td>\n",
              "      <td>...</td>\n",
              "      <td>NaN</td>\n",
              "      <td>NaN</td>\n",
              "      <td>NaN</td>\n",
              "      <td>NaN</td>\n",
              "      <td>NaN</td>\n",
              "      <td>NaN</td>\n",
              "      <td>9812</td>\n",
              "      <td>68.0</td>\n",
              "      <td>1.0</td>\n",
              "      <td>21.0</td>\n",
              "    </tr>\n",
              "    <tr>\n",
              "      <th>4</th>\n",
              "      <td>7455</td>\n",
              "      <td>2003</td>\n",
              "      <td>114.0</td>\n",
              "      <td>125.0</td>\n",
              "      <td>2003-01-16</td>\n",
              "      <td>15:15</td>\n",
              "      <td>NaN</td>\n",
              "      <td>0.0</td>\n",
              "      <td>NaN</td>\n",
              "      <td>1.0</td>\n",
              "      <td>...</td>\n",
              "      <td>NaN</td>\n",
              "      <td>NaN</td>\n",
              "      <td>NaN</td>\n",
              "      <td>NaN</td>\n",
              "      <td>NaN</td>\n",
              "      <td>NaN</td>\n",
              "      <td>7455</td>\n",
              "      <td>70.0</td>\n",
              "      <td>1.0</td>\n",
              "      <td>15.0</td>\n",
              "    </tr>\n",
              "  </tbody>\n",
              "</table>\n",
              "<p>5 rows × 114 columns</p>\n",
              "</div>"
            ],
            "text/plain": [
              "       x  year    pct  ser_num   datestop timestop recstat  inout trhsloc  \\\n",
              "0  10500  2003  108.0    168.0 2003-01-23    12:10     NaN    0.0     NaN   \n",
              "1  10501  2003  107.0    230.0 2003-01-23    12:10     NaN    0.0     NaN   \n",
              "2   8341  2003   33.0    162.0 2003-01-18    00:02     NaN    0.0     NaN   \n",
              "3   9812  2003   70.0    189.0 2003-01-21    21:10     NaN    0.0     NaN   \n",
              "4   7455  2003  114.0    125.0 2003-01-16    15:15     NaN    0.0     NaN   \n",
              "\n",
              "   perobs  ... post  xcoord ycoord  dettypcm  linecm  detailcm serialid  \\\n",
              "0    10.0  ...  NaN     NaN    NaN       NaN     NaN       NaN    10501   \n",
              "1     5.0  ...  NaN     NaN    NaN       NaN     NaN       NaN    10502   \n",
              "2     1.0  ...  NaN     NaN    NaN       NaN     NaN       NaN     8342   \n",
              "3     2.0  ...  NaN     NaN    NaN       NaN     NaN       NaN     9812   \n",
              "4     1.0  ...  NaN     NaN    NaN       NaN     NaN       NaN     7455   \n",
              "\n",
              "  height datestop_month  timestop_hour  \n",
              "0   68.0            1.0           12.0  \n",
              "1   69.0            1.0           12.0  \n",
              "2   70.0            1.0            0.0  \n",
              "3   68.0            1.0           21.0  \n",
              "4   70.0            1.0           15.0  \n",
              "\n",
              "[5 rows x 114 columns]"
            ]
          },
          "metadata": {
            "tags": []
          },
          "execution_count": 10
        }
      ]
    },
    {
      "cell_type": "markdown",
      "metadata": {
        "id": "ijyaMiKQVbWu",
        "colab_type": "text"
      },
      "source": [
        "*Select columns needed for model*"
      ]
    },
    {
      "cell_type": "code",
      "metadata": {
        "id": "RE0ieLC9VbWu",
        "colab_type": "code",
        "colab": {}
      },
      "source": [
        "#select only relevant columns needed for model\n",
        "rel_cols = ['year', 'pct',\n",
        "       'inout', 'perobs', 'perstop', 'typeofid',\n",
        "       'explnstp', 'othpers', 'arstmade', 'offunif',\n",
        "       'frisked', 'searched', 'contrabn', 'pistol',\n",
        "       'riflshot', 'asltweap', 'knifcuti', 'machgun', 'othrweap',\n",
        "       'pf_hands', 'pf_wall', 'pf_grnd', 'pf_drwep', 'pf_ptwep',\n",
        "       'pf_baton', 'pf_hcuff', 'pf_pepsp', 'pf_other',\n",
        "       'ac_inves', 'rf_vcrim', 'rf_othsw', 'ac_proxm', 'rf_attir',\n",
        "       'cs_objcs', 'cs_descr', 'cs_casng', 'cs_lkout', 'rf_vcact',\n",
        "       'cs_cloth', 'cs_drgtr', 'ac_evasv', 'ac_assoc', 'cs_furtv',\n",
        "       'rf_rfcmp', 'ac_cgdir', 'rf_verbl', 'cs_vcrim', 'cs_bulge',\n",
        "       'cs_other', 'ac_incid', 'ac_time', 'rf_knowl', 'ac_stsnd',\n",
        "       'ac_other', 'sb_hdobj', 'sb_outln', 'sb_admis', 'sb_other',\n",
        "       'rf_furt', 'rf_bulg',\n",
        "       'sex', 'race', 'age', 'weight', 'build', 'height','datestop_month','timestop_hour']\n",
        "dataframe_rel = dataframe[rel_cols]"
      ],
      "execution_count": 0,
      "outputs": []
    },
    {
      "cell_type": "markdown",
      "metadata": {
        "id": "fxH3rfQjVbWv",
        "colab_type": "text"
      },
      "source": [
        "*List-wise deletion of records*"
      ]
    },
    {
      "cell_type": "code",
      "metadata": {
        "id": "lKpx7RB6VbWv",
        "colab_type": "code",
        "colab": {}
      },
      "source": [
        "dataframe_rel.dropna(how='any',inplace = True)\n",
        "dataframe_rel.drop(dataframe_rel[dataframe_rel['pct'] == 999].index,inplace=True)\n",
        "dataframe_rel.drop(dataframe_rel[dataframe_rel['age'] == 999].index,inplace=True)\n",
        "dataframe_rel.drop(dataframe_rel[dataframe_rel['weight'] == 999].index,inplace=True)\n",
        "dataframe_rel.drop(dataframe_rel[dataframe_rel['height'] == 999].index,inplace=True)"
      ],
      "execution_count": 0,
      "outputs": []
    },
    {
      "cell_type": "markdown",
      "metadata": {
        "id": "9J176ntsVbWw",
        "colab_type": "text"
      },
      "source": [
        "*One hot encode categorical data*"
      ]
    },
    {
      "cell_type": "code",
      "metadata": {
        "id": "voMAv_QdVbWx",
        "colab_type": "code",
        "colab": {}
      },
      "source": [
        "df = dataframe_rel.sample(n = 100000, random_state = 42)"
      ],
      "execution_count": 0,
      "outputs": []
    },
    {
      "cell_type": "code",
      "metadata": {
        "id": "VsVjYZvSVbWx",
        "colab_type": "code",
        "colab": {},
        "outputId": "6de55130-cdee-4669-9e81-b05c1862a540"
      },
      "source": [
        "cat_cols = ['typeofid','race','build']\n",
        "df = pd.concat([df, pd.get_dummies(df[cat_cols], prefix=cat_cols)], axis=1)\n",
        "df.drop(cat_cols, axis=1, inplace = True)\n",
        "df = df.astype('int32')\n",
        "df.head()"
      ],
      "execution_count": 0,
      "outputs": [
        {
          "output_type": "execute_result",
          "data": {
            "text/html": [
              "<div>\n",
              "<style scoped>\n",
              "    .dataframe tbody tr th:only-of-type {\n",
              "        vertical-align: middle;\n",
              "    }\n",
              "\n",
              "    .dataframe tbody tr th {\n",
              "        vertical-align: top;\n",
              "    }\n",
              "\n",
              "    .dataframe thead th {\n",
              "        text-align: right;\n",
              "    }\n",
              "</style>\n",
              "<table border=\"1\" class=\"dataframe\">\n",
              "  <thead>\n",
              "    <tr style=\"text-align: right;\">\n",
              "      <th></th>\n",
              "      <th>year</th>\n",
              "      <th>pct</th>\n",
              "      <th>inout</th>\n",
              "      <th>perobs</th>\n",
              "      <th>perstop</th>\n",
              "      <th>explnstp</th>\n",
              "      <th>othpers</th>\n",
              "      <th>arstmade</th>\n",
              "      <th>offunif</th>\n",
              "      <th>frisked</th>\n",
              "      <th>...</th>\n",
              "      <th>race_Q</th>\n",
              "      <th>race_U</th>\n",
              "      <th>race_W</th>\n",
              "      <th>race_X</th>\n",
              "      <th>race_Z</th>\n",
              "      <th>build_H</th>\n",
              "      <th>build_M</th>\n",
              "      <th>build_T</th>\n",
              "      <th>build_U</th>\n",
              "      <th>build_Z</th>\n",
              "    </tr>\n",
              "  </thead>\n",
              "  <tbody>\n",
              "    <tr>\n",
              "      <th>1692635</th>\n",
              "      <td>2010</td>\n",
              "      <td>40</td>\n",
              "      <td>1</td>\n",
              "      <td>7</td>\n",
              "      <td>2</td>\n",
              "      <td>1</td>\n",
              "      <td>0</td>\n",
              "      <td>0</td>\n",
              "      <td>1</td>\n",
              "      <td>1</td>\n",
              "      <td>...</td>\n",
              "      <td>1</td>\n",
              "      <td>0</td>\n",
              "      <td>0</td>\n",
              "      <td>0</td>\n",
              "      <td>0</td>\n",
              "      <td>0</td>\n",
              "      <td>1</td>\n",
              "      <td>0</td>\n",
              "      <td>0</td>\n",
              "      <td>0</td>\n",
              "    </tr>\n",
              "    <tr>\n",
              "      <th>2111634</th>\n",
              "      <td>2010</td>\n",
              "      <td>41</td>\n",
              "      <td>0</td>\n",
              "      <td>2</td>\n",
              "      <td>3</td>\n",
              "      <td>1</td>\n",
              "      <td>0</td>\n",
              "      <td>0</td>\n",
              "      <td>1</td>\n",
              "      <td>1</td>\n",
              "      <td>...</td>\n",
              "      <td>1</td>\n",
              "      <td>0</td>\n",
              "      <td>0</td>\n",
              "      <td>0</td>\n",
              "      <td>0</td>\n",
              "      <td>0</td>\n",
              "      <td>1</td>\n",
              "      <td>0</td>\n",
              "      <td>0</td>\n",
              "      <td>0</td>\n",
              "    </tr>\n",
              "    <tr>\n",
              "      <th>1704518</th>\n",
              "      <td>2010</td>\n",
              "      <td>75</td>\n",
              "      <td>0</td>\n",
              "      <td>1</td>\n",
              "      <td>1</td>\n",
              "      <td>1</td>\n",
              "      <td>0</td>\n",
              "      <td>0</td>\n",
              "      <td>0</td>\n",
              "      <td>0</td>\n",
              "      <td>...</td>\n",
              "      <td>0</td>\n",
              "      <td>0</td>\n",
              "      <td>0</td>\n",
              "      <td>0</td>\n",
              "      <td>0</td>\n",
              "      <td>0</td>\n",
              "      <td>0</td>\n",
              "      <td>0</td>\n",
              "      <td>0</td>\n",
              "      <td>1</td>\n",
              "    </tr>\n",
              "    <tr>\n",
              "      <th>1985883</th>\n",
              "      <td>2010</td>\n",
              "      <td>46</td>\n",
              "      <td>0</td>\n",
              "      <td>2</td>\n",
              "      <td>10</td>\n",
              "      <td>1</td>\n",
              "      <td>1</td>\n",
              "      <td>0</td>\n",
              "      <td>1</td>\n",
              "      <td>1</td>\n",
              "      <td>...</td>\n",
              "      <td>1</td>\n",
              "      <td>0</td>\n",
              "      <td>0</td>\n",
              "      <td>0</td>\n",
              "      <td>0</td>\n",
              "      <td>0</td>\n",
              "      <td>1</td>\n",
              "      <td>0</td>\n",
              "      <td>0</td>\n",
              "      <td>0</td>\n",
              "    </tr>\n",
              "    <tr>\n",
              "      <th>2080217</th>\n",
              "      <td>2010</td>\n",
              "      <td>103</td>\n",
              "      <td>0</td>\n",
              "      <td>2</td>\n",
              "      <td>5</td>\n",
              "      <td>1</td>\n",
              "      <td>0</td>\n",
              "      <td>0</td>\n",
              "      <td>1</td>\n",
              "      <td>0</td>\n",
              "      <td>...</td>\n",
              "      <td>0</td>\n",
              "      <td>0</td>\n",
              "      <td>0</td>\n",
              "      <td>0</td>\n",
              "      <td>0</td>\n",
              "      <td>0</td>\n",
              "      <td>1</td>\n",
              "      <td>0</td>\n",
              "      <td>0</td>\n",
              "      <td>0</td>\n",
              "    </tr>\n",
              "  </tbody>\n",
              "</table>\n",
              "<p>5 rows × 83 columns</p>\n",
              "</div>"
            ],
            "text/plain": [
              "         year  pct  inout  perobs  perstop  explnstp  othpers  arstmade  \\\n",
              "1692635  2010   40      1       7        2         1        0         0   \n",
              "2111634  2010   41      0       2        3         1        0         0   \n",
              "1704518  2010   75      0       1        1         1        0         0   \n",
              "1985883  2010   46      0       2       10         1        1         0   \n",
              "2080217  2010  103      0       2        5         1        0         0   \n",
              "\n",
              "         offunif  frisked  ...  race_Q  race_U  race_W  race_X  race_Z  \\\n",
              "1692635        1        1  ...       1       0       0       0       0   \n",
              "2111634        1        1  ...       1       0       0       0       0   \n",
              "1704518        0        0  ...       0       0       0       0       0   \n",
              "1985883        1        1  ...       1       0       0       0       0   \n",
              "2080217        1        0  ...       0       0       0       0       0   \n",
              "\n",
              "         build_H  build_M  build_T  build_U  build_Z  \n",
              "1692635        0        1        0        0        0  \n",
              "2111634        0        1        0        0        0  \n",
              "1704518        0        0        0        0        1  \n",
              "1985883        0        1        0        0        0  \n",
              "2080217        0        1        0        0        0  \n",
              "\n",
              "[5 rows x 83 columns]"
            ]
          },
          "metadata": {
            "tags": []
          },
          "execution_count": 14
        }
      ]
    },
    {
      "cell_type": "markdown",
      "metadata": {
        "id": "JFSKKGSgVbWz",
        "colab_type": "text"
      },
      "source": [
        "## **Build Decision Tree Classifier**"
      ]
    },
    {
      "cell_type": "code",
      "metadata": {
        "id": "R_NmL5VGVbWz",
        "colab_type": "code",
        "colab": {}
      },
      "source": [
        "c = 'frisked'\n",
        "# c = 'searched'\n",
        "label_df = df[c]\n",
        "feature_df = df.drop(['frisked','searched'], axis = 1)\n",
        "num_cols = ['year','pct','perobs','perstop','age','weight','height','datestop_month','timestop_hour']\n",
        "scaler = MinMaxScaler()\n",
        "feature_df[num_cols] = scaler.fit_transform(feature_df[num_cols])"
      ],
      "execution_count": 0,
      "outputs": []
    },
    {
      "cell_type": "code",
      "metadata": {
        "id": "VGpekM4FVbW0",
        "colab_type": "code",
        "colab": {},
        "outputId": "63fab89f-c748-4699-ae10-99dbb85c2649"
      },
      "source": [
        "def run_dt_classifier(feature_df,label_df, test_size, roc_curve_gen = False):\n",
        "    f_train, f_test, l_train, l_test = train_test_split(feature_df,label_df, test_size=test_size)\n",
        "    clf = DecisionTreeClassifier(criterion = 'gini')\n",
        "    clf_fit= clf.fit(f_train,l_train)\n",
        "    #Predicting frisked\n",
        "    # print(\"Frisked:\")\n",
        "    label_predicted = clf_fit.predict(f_test)\n",
        "    acc = accuracy_score(l_test, label_predicted)\n",
        "    # print(\"Decision Tree classifier accuracy on initial test data = {}\".format(round(acc,3)))\n",
        "    # print(\"\")\n",
        "\n",
        "    cm = confusion_matrix(l_test,label_predicted,labels=[0,1])\n",
        "    # print(\"Confusion Matrix = \\n{}\".format(cm))\n",
        "\n",
        "    # print(\"\")\n",
        "    cv_score = cross_val_score(clf_fit,feature_df,y=label_df,cv=10)\n",
        "    cv_predict=cross_val_predict(clf_fit, feature_df, label_df, cv=10)\n",
        "\n",
        "    print(\"Average 10 fold cross validation score = {}\".format(round(np.mean(cv_score),3)))\n",
        "    if roc_curve_gen:\n",
        "        predict_prob = clf_fit.predict_proba(f_test)\n",
        "        fpr, tpr, thresholds = roc_curve(l_test, predict_prob[:,1])\n",
        "        print('Area Under Curve: ', roc_auc_score(l_test, predict_prob[:,1]))\n",
        "        print(classification_report(label_df, cv_predict))\n",
        "\n",
        "        plt.plot([0,1], [0,1], 'k--')\n",
        "        plt.plot(fpr, tpr, label='Decision Tree')\n",
        "        plt.xlabel('fpr')\n",
        "        plt.ylabel('tpr')\n",
        "        plt.title('ROC Curve Decision Tree')\n",
        "        plt.show()\n",
        "    return cv_score,clf_fit\n",
        "dt_acc,clf_fit = run_dt_classifier(feature_df,label_df, 0.20, True)"
      ],
      "execution_count": 0,
      "outputs": [
        {
          "output_type": "stream",
          "text": [
            "Average 10 fold cross validation score = 0.987\n",
            "Area Under Curve:  0.9871349583140081\n",
            "              precision    recall  f1-score   support\n",
            "\n",
            "           0       0.99      0.99      0.99     45879\n",
            "           1       0.99      0.99      0.99     54121\n",
            "\n",
            "    accuracy                           0.99    100000\n",
            "   macro avg       0.99      0.99      0.99    100000\n",
            "weighted avg       0.99      0.99      0.99    100000\n",
            "\n"
          ],
          "name": "stdout"
        },
        {
          "output_type": "display_data",
          "data": {
            "image/png": "[encoded data removed]",
            "text/plain": [
              "<matplotlib.figure.Figure at 0x7f73d3075ef0>"
            ]
          },
          "metadata": {
            "tags": [],
            "needs_background": "light"
          }
        }
      ]
    },
    {
      "cell_type": "markdown",
      "metadata": {
        "id": "d7FwIoUiVbW1",
        "colab_type": "text"
      },
      "source": [
        "## **Build Random Forest Classifier (Ensemble)**"
      ]
    },
    {
      "cell_type": "code",
      "metadata": {
        "id": "MKwGhz9dVbW1",
        "colab_type": "code",
        "colab": {},
        "outputId": "fe09f2e5-baaa-4dbe-cdb8-e11489f009fc"
      },
      "source": [
        "def run_rf_classifier(feature_df,label_df, test_size, roc_curve_gen=False):\n",
        "    f_train, f_test, l_train, l_test = train_test_split(feature_df,label_df, test_size=0.20)\n",
        "    forest = RandomForestClassifier(n_estimators=100)\n",
        "    forest_fit= forest.fit(f_train,l_train)\n",
        "    #Predicting frisked\n",
        "    # print(\"Frisked:\")\n",
        "    label_predicted = forest_fit.predict(f_test)\n",
        "    acc = accuracy_score(l_test, label_predicted)\n",
        "    # print(\"Random Forest classifier accuracy on initial test data = {}\".format(round(acc,3)))\n",
        "    # print(\"\")\n",
        "\n",
        "    cm = confusion_matrix(l_test,label_predicted,labels=[0,1])\n",
        "    # print(\"Confusion Matrix = \\n{}\".format(cm))\n",
        "\n",
        "    # print(\"\")\n",
        "    cv_score = cross_val_score(forest_fit,feature_df,y=label_df,cv=10)\n",
        "    cv_predict=cross_val_predict(forest_fit, feature_df, label_df, cv=10)\n",
        "    \n",
        "\n",
        "    print(\"Average 10 fold cross validation score = {}\".format(round(np.mean(cv_score),3)))\n",
        "    if roc_curve_gen:\n",
        "        \n",
        "        predict_prob = forest_fit.predict_proba(f_test)\n",
        "        fpr, tpr, thresholds = roc_curve(l_test, predict_prob[:,1])\n",
        "        print('Area Under Curve: ', roc_auc_score(l_test, predict_prob[:,1]))\n",
        "        print(classification_report(label_df, cv_predict))\n",
        "\n",
        "        plt.plot([0,1], [0,1], 'k--')\n",
        "        plt.plot(fpr, tpr, label='Random Forests')\n",
        "        plt.xlabel('fpr')\n",
        "        plt.ylabel('tpr')\n",
        "        plt.title('ROC Curve Random Forests')\n",
        "        plt.show()\n",
        "    return cv_score,forest_fit\n",
        "rf_acc,forest_fit = run_rf_classifier(feature_df,label_df, 0.20, True)"
      ],
      "execution_count": 0,
      "outputs": [
        {
          "output_type": "stream",
          "text": [
            "Average 10 fold cross validation score = 0.991\n",
            "Area Under Curve:  0.9986724437326708\n",
            "              precision    recall  f1-score   support\n",
            "\n",
            "           0       0.99      0.99      0.99     45879\n",
            "           1       0.99      0.99      0.99     54121\n",
            "\n",
            "    accuracy                           0.99    100000\n",
            "   macro avg       0.99      0.99      0.99    100000\n",
            "weighted avg       0.99      0.99      0.99    100000\n",
            "\n"
          ],
          "name": "stdout"
        },
        {
          "output_type": "display_data",
          "data": {
            "image/png": "[encoded data removed]",
            "text/plain": [
              "<matplotlib.figure.Figure at 0x7f73d3022ba8>"
            ]
          },
          "metadata": {
            "tags": [],
            "needs_background": "light"
          }
        }
      ]
    },
    {
      "cell_type": "markdown",
      "metadata": {
        "id": "rt4yiq0jVbW2",
        "colab_type": "text"
      },
      "source": [
        "<p>At this point, we notice that our ROC curve and accuracy is suspiciously perfect for both classifiers. This implies that there is are features that highly correlated with the label 'Frisked'. The result from a high correlation is a tree that is all too perfect at predicting whether a new record will be frisked or not. Thus, we launch an analysis to determine which features are highly correlated with the 'frisked' label. We also revisit each label individually to determine which labels will intuitively need to be removed.</p>"
      ]
    },
    {
      "cell_type": "markdown",
      "metadata": {
        "id": "4v3qwWHYVbW2",
        "colab_type": "text"
      },
      "source": [
        "## **Ranking Features Using Two-Way Table**\n",
        "\n",
        "<p>For each feature, we computer the possible combinations of outputs with the 'frisked' label. Thus, for each feature there are four possibile combinations. Here, we are computing a measure of imbalence by taking a ratio of those that are positive for containing a characteristic and those that have been frisked. Please refer to the report for more information and for motivation.</p>"
      ]
    },
    {
      "cell_type": "code",
      "metadata": {
        "id": "5RXxL-AVVbW3",
        "colab_type": "code",
        "colab": {}
      },
      "source": [
        "perc = dict()\n",
        "for col in yesno_cols:\n",
        "    # Ign the frisked column. \n",
        "    if col == 'frisked':\n",
        "        continue\n",
        "    gpby = dataframe.groupby([col, 'frisked'])\n",
        "    perc[col] = gpby.size()[1,1]/(gpby.size()[1,0]+ gpby.size()[1,1])"
      ],
      "execution_count": 0,
      "outputs": []
    },
    {
      "cell_type": "markdown",
      "metadata": {
        "id": "ox1o0uZ4VbW3",
        "colab_type": "text"
      },
      "source": [
        "## **Visualizing Accuracy vs Number of Features Used**"
      ]
    },
    {
      "cell_type": "code",
      "metadata": {
        "id": "eAM4mleQVbW4",
        "colab_type": "code",
        "colab": {},
        "outputId": "3f0a7738-88a1-48f3-98dc-be36b7508298"
      },
      "source": [
        "data = np.asarray(list(perc.items()))\n",
        "imbalance_df = pd.DataFrame(data = data, columns = ['feature','imbalance'])\n",
        "imbalance_df.sort_values(['imbalance'],ascending=False,inplace=True)\n",
        "imbalance_df.head()"
      ],
      "execution_count": 0,
      "outputs": [
        {
          "output_type": "execute_result",
          "data": {
            "text/html": [
              "<div>\n",
              "<style scoped>\n",
              "    .dataframe tbody tr th:only-of-type {\n",
              "        vertical-align: middle;\n",
              "    }\n",
              "\n",
              "    .dataframe tbody tr th {\n",
              "        vertical-align: top;\n",
              "    }\n",
              "\n",
              "    .dataframe thead th {\n",
              "        text-align: right;\n",
              "    }\n",
              "</style>\n",
              "<table border=\"1\" class=\"dataframe\">\n",
              "  <thead>\n",
              "    <tr style=\"text-align: right;\">\n",
              "      <th></th>\n",
              "      <th>feature</th>\n",
              "      <th>imbalance</th>\n",
              "    </tr>\n",
              "  </thead>\n",
              "  <tbody>\n",
              "    <tr>\n",
              "      <th>25</th>\n",
              "      <td>rf_attir</td>\n",
              "      <td>0.9980322881792428</td>\n",
              "    </tr>\n",
              "    <tr>\n",
              "      <th>22</th>\n",
              "      <td>rf_vcrim</td>\n",
              "      <td>0.9973123837089105</td>\n",
              "    </tr>\n",
              "    <tr>\n",
              "      <th>51</th>\n",
              "      <td>rf_furt</td>\n",
              "      <td>0.9972002089973002</td>\n",
              "    </tr>\n",
              "    <tr>\n",
              "      <th>36</th>\n",
              "      <td>rf_rfcmp</td>\n",
              "      <td>0.9971623426173216</td>\n",
              "    </tr>\n",
              "    <tr>\n",
              "      <th>52</th>\n",
              "      <td>rf_bulg</td>\n",
              "      <td>0.9968168129502064</td>\n",
              "    </tr>\n",
              "  </tbody>\n",
              "</table>\n",
              "</div>"
            ],
            "text/plain": [
              "     feature           imbalance\n",
              "25  rf_attir  0.9980322881792428\n",
              "22  rf_vcrim  0.9973123837089105\n",
              "51   rf_furt  0.9972002089973002\n",
              "36  rf_rfcmp  0.9971623426173216\n",
              "52   rf_bulg  0.9968168129502064"
            ]
          },
          "metadata": {
            "tags": []
          },
          "execution_count": 16
        }
      ]
    },
    {
      "cell_type": "code",
      "metadata": {
        "id": "I8Rhz2xpVbW5",
        "colab_type": "code",
        "colab": {},
        "outputId": "ac315e94-d36f-44b2-f3c9-7799338e6c1f"
      },
      "source": [
        "acc_list = []\n",
        "feature_removed = []\n",
        "feature_list = [e for e in rel_cols if e not in ('typeofid','frisked', 'race', 'build','searched')]\n",
        "i=0\n",
        "for feature in imbalance_df['feature'].values:\n",
        "    print(\"Removed {} Features:\".format(i))\n",
        "    dt_acc,clf_fit = run_dt_classifier(feature_df[feature_list],label_df, 0.20, False)\n",
        "    acc_list.append(np.mean(dt_acc))\n",
        "    feature_removed.append(i)\n",
        "    if feature in feature_list:\n",
        "        feature_list.remove(feature)\n",
        "    i+=1\n",
        "    if i>15:\n",
        "        break"
      ],
      "execution_count": 0,
      "outputs": [
        {
          "output_type": "stream",
          "text": [
            "Removed 0 Features:\n",
            "Average 10 fold cross validation score = 0.987\n",
            "Removed 1 Features:\n",
            "Average 10 fold cross validation score = 0.953\n",
            "Removed 2 Features:\n",
            "Average 10 fold cross validation score = 0.91\n",
            "Removed 3 Features:\n",
            "Average 10 fold cross validation score = 0.768\n",
            "Removed 4 Features:\n",
            "Average 10 fold cross validation score = 0.744\n",
            "Removed 5 Features:\n",
            "Average 10 fold cross validation score = 0.726\n",
            "Removed 6 Features:\n",
            "Average 10 fold cross validation score = 0.726\n",
            "Removed 7 Features:\n",
            "Average 10 fold cross validation score = 0.723\n",
            "Removed 8 Features:\n",
            "Average 10 fold cross validation score = 0.715\n",
            "Removed 9 Features:\n",
            "Average 10 fold cross validation score = 0.715\n",
            "Removed 10 Features:\n",
            "Average 10 fold cross validation score = 0.716\n",
            "Removed 11 Features:\n",
            "Average 10 fold cross validation score = 0.715\n",
            "Removed 12 Features:\n",
            "Average 10 fold cross validation score = 0.716\n",
            "Removed 13 Features:\n",
            "Average 10 fold cross validation score = 0.715\n",
            "Removed 14 Features:\n",
            "Average 10 fold cross validation score = 0.678\n",
            "Removed 15 Features:\n",
            "Average 10 fold cross validation score = 0.679\n"
          ],
          "name": "stdout"
        }
      ]
    },
    {
      "cell_type": "code",
      "metadata": {
        "id": "ROKJY82WVbW6",
        "colab_type": "code",
        "colab": {},
        "outputId": "0f52eb83-4b96-41fc-fb8d-b89472a9657c"
      },
      "source": [
        "plt.figure(figsize=(8,6))\n",
        "plt.arrow(10,0,0,1,width=0.02,color='blue',head_length=0.0,head_width=0.0)\n",
        "plt.scatter(feature_removed,acc_list,s=None, c=\"grey\", marker=None, cmap=None, norm=None, vmin=None, vmax=None, alpha=0.8, linewidths=0.5, verts=None, edgecolors=\"black\")\n",
        "plt.title('Number of Feature Removed vs vs. Decision Tree Classifier Accuracy')\n",
        "plt.xlabel('Number of Feature Removed')\n",
        "plt.ylabel('Decision Tree Classifier Accuracy')\n",
        "plt.xlim(0,i); plt.ylim(0,1)\n",
        "plt.show() "
      ],
      "execution_count": 0,
      "outputs": [
        {
          "output_type": "display_data",
          "data": {
            "image/png": "[encoded data removed]",
            "text/plain": [
              "<matplotlib.figure.Figure at 0x7f73d2fc9be0>"
            ]
          },
          "metadata": {
            "tags": [],
            "needs_background": "light"
          }
        }
      ]
    },
    {
      "cell_type": "markdown",
      "metadata": {
        "id": "RrDuoQ4sVbW7",
        "colab_type": "text"
      },
      "source": [
        "#### Remove features that have been found to be too highly correlated with our chosen label. We also base this on intuition."
      ]
    },
    {
      "cell_type": "code",
      "metadata": {
        "id": "yVs1m1vwVbW7",
        "colab_type": "code",
        "colab": {},
        "outputId": "35874008-5a07-4505-8429-eae227775284"
      },
      "source": [
        "#Drop columns discovered to have high imbalance from two way table analysis and based on intuition\n",
        "rf = ['rf_furt', 'rf_vcrim', 'rf_rfcmp', 'rf_bulg', 'rf_attir', 'rf_vcact', 'rf_knowl', 'rf_verbl', 'rf_othsw']\n",
        "sb = ['sb_hdobj', 'sb_other', 'sb_outln', 'sb_admis']\n",
        "pf = ['pf_hcuff', 'pf_hands', 'pf_wall', 'pf_grnd', 'pf_ptwep', 'pf_drwep', 'pf_baton', 'pf_other', 'pf_pepsp']\n",
        "found = ['contrabn', 'knifcuti', 'othrweap', 'pistol', 'asltweap', 'riflshot', 'machgun']\n",
        "feature_df.drop(rf, axis=1, inplace=True)\n",
        "feature_df.drop(sb, axis=1, inplace=True)\n",
        "feature_df.drop(pf, axis=1, inplace=True)\n",
        "feature_df.drop(found, axis=1, inplace=True)\n",
        "new_feature_df = feature_df.copy(deep=True)\n",
        "new_feature_df.head()"
      ],
      "execution_count": 0,
      "outputs": [
        {
          "output_type": "execute_result",
          "data": {
            "text/html": [
              "<div>\n",
              "<style scoped>\n",
              "    .dataframe tbody tr th:only-of-type {\n",
              "        vertical-align: middle;\n",
              "    }\n",
              "\n",
              "    .dataframe tbody tr th {\n",
              "        vertical-align: top;\n",
              "    }\n",
              "\n",
              "    .dataframe thead th {\n",
              "        text-align: right;\n",
              "    }\n",
              "</style>\n",
              "<table border=\"1\" class=\"dataframe\">\n",
              "  <thead>\n",
              "    <tr style=\"text-align: right;\">\n",
              "      <th></th>\n",
              "      <th>year</th>\n",
              "      <th>pct</th>\n",
              "      <th>inout</th>\n",
              "      <th>perobs</th>\n",
              "      <th>perstop</th>\n",
              "      <th>explnstp</th>\n",
              "      <th>othpers</th>\n",
              "      <th>arstmade</th>\n",
              "      <th>offunif</th>\n",
              "      <th>ac_inves</th>\n",
              "      <th>...</th>\n",
              "      <th>race_Q</th>\n",
              "      <th>race_U</th>\n",
              "      <th>race_W</th>\n",
              "      <th>race_X</th>\n",
              "      <th>race_Z</th>\n",
              "      <th>build_H</th>\n",
              "      <th>build_M</th>\n",
              "      <th>build_T</th>\n",
              "      <th>build_U</th>\n",
              "      <th>build_Z</th>\n",
              "    </tr>\n",
              "  </thead>\n",
              "  <tbody>\n",
              "    <tr>\n",
              "      <th>1692635</th>\n",
              "      <td>0.777778</td>\n",
              "      <td>0.319672</td>\n",
              "      <td>1</td>\n",
              "      <td>0.035957</td>\n",
              "      <td>0.002002</td>\n",
              "      <td>1</td>\n",
              "      <td>0</td>\n",
              "      <td>0</td>\n",
              "      <td>1</td>\n",
              "      <td>0</td>\n",
              "      <td>...</td>\n",
              "      <td>1</td>\n",
              "      <td>0</td>\n",
              "      <td>0</td>\n",
              "      <td>0</td>\n",
              "      <td>0</td>\n",
              "      <td>0</td>\n",
              "      <td>1</td>\n",
              "      <td>0</td>\n",
              "      <td>0</td>\n",
              "      <td>0</td>\n",
              "    </tr>\n",
              "    <tr>\n",
              "      <th>2111634</th>\n",
              "      <td>0.777778</td>\n",
              "      <td>0.327869</td>\n",
              "      <td>0</td>\n",
              "      <td>0.031098</td>\n",
              "      <td>0.003003</td>\n",
              "      <td>1</td>\n",
              "      <td>0</td>\n",
              "      <td>0</td>\n",
              "      <td>1</td>\n",
              "      <td>0</td>\n",
              "      <td>...</td>\n",
              "      <td>1</td>\n",
              "      <td>0</td>\n",
              "      <td>0</td>\n",
              "      <td>0</td>\n",
              "      <td>0</td>\n",
              "      <td>0</td>\n",
              "      <td>1</td>\n",
              "      <td>0</td>\n",
              "      <td>0</td>\n",
              "      <td>0</td>\n",
              "    </tr>\n",
              "    <tr>\n",
              "      <th>1704518</th>\n",
              "      <td>0.777778</td>\n",
              "      <td>0.606557</td>\n",
              "      <td>0</td>\n",
              "      <td>0.030126</td>\n",
              "      <td>0.001001</td>\n",
              "      <td>1</td>\n",
              "      <td>0</td>\n",
              "      <td>0</td>\n",
              "      <td>0</td>\n",
              "      <td>0</td>\n",
              "      <td>...</td>\n",
              "      <td>0</td>\n",
              "      <td>0</td>\n",
              "      <td>0</td>\n",
              "      <td>0</td>\n",
              "      <td>0</td>\n",
              "      <td>0</td>\n",
              "      <td>0</td>\n",
              "      <td>0</td>\n",
              "      <td>0</td>\n",
              "      <td>1</td>\n",
              "    </tr>\n",
              "    <tr>\n",
              "      <th>1985883</th>\n",
              "      <td>0.777778</td>\n",
              "      <td>0.368852</td>\n",
              "      <td>0</td>\n",
              "      <td>0.031098</td>\n",
              "      <td>0.010010</td>\n",
              "      <td>1</td>\n",
              "      <td>1</td>\n",
              "      <td>0</td>\n",
              "      <td>1</td>\n",
              "      <td>0</td>\n",
              "      <td>...</td>\n",
              "      <td>1</td>\n",
              "      <td>0</td>\n",
              "      <td>0</td>\n",
              "      <td>0</td>\n",
              "      <td>0</td>\n",
              "      <td>0</td>\n",
              "      <td>1</td>\n",
              "      <td>0</td>\n",
              "      <td>0</td>\n",
              "      <td>0</td>\n",
              "    </tr>\n",
              "    <tr>\n",
              "      <th>2080217</th>\n",
              "      <td>0.777778</td>\n",
              "      <td>0.836066</td>\n",
              "      <td>0</td>\n",
              "      <td>0.031098</td>\n",
              "      <td>0.005005</td>\n",
              "      <td>1</td>\n",
              "      <td>0</td>\n",
              "      <td>0</td>\n",
              "      <td>1</td>\n",
              "      <td>0</td>\n",
              "      <td>...</td>\n",
              "      <td>0</td>\n",
              "      <td>0</td>\n",
              "      <td>0</td>\n",
              "      <td>0</td>\n",
              "      <td>0</td>\n",
              "      <td>0</td>\n",
              "      <td>1</td>\n",
              "      <td>0</td>\n",
              "      <td>0</td>\n",
              "      <td>0</td>\n",
              "    </tr>\n",
              "  </tbody>\n",
              "</table>\n",
              "<p>5 rows × 52 columns</p>\n",
              "</div>"
            ],
            "text/plain": [
              "             year       pct  inout    perobs   perstop  explnstp  othpers  \\\n",
              "1692635  0.777778  0.319672      1  0.035957  0.002002         1        0   \n",
              "2111634  0.777778  0.327869      0  0.031098  0.003003         1        0   \n",
              "1704518  0.777778  0.606557      0  0.030126  0.001001         1        0   \n",
              "1985883  0.777778  0.368852      0  0.031098  0.010010         1        1   \n",
              "2080217  0.777778  0.836066      0  0.031098  0.005005         1        0   \n",
              "\n",
              "         arstmade  offunif  ac_inves  ...  race_Q  race_U  race_W  race_X  \\\n",
              "1692635         0        1         0  ...       1       0       0       0   \n",
              "2111634         0        1         0  ...       1       0       0       0   \n",
              "1704518         0        0         0  ...       0       0       0       0   \n",
              "1985883         0        1         0  ...       1       0       0       0   \n",
              "2080217         0        1         0  ...       0       0       0       0   \n",
              "\n",
              "         race_Z  build_H  build_M  build_T  build_U  build_Z  \n",
              "1692635       0        0        1        0        0        0  \n",
              "2111634       0        0        1        0        0        0  \n",
              "1704518       0        0        0        0        0        1  \n",
              "1985883       0        0        1        0        0        0  \n",
              "2080217       0        0        1        0        0        0  \n",
              "\n",
              "[5 rows x 52 columns]"
            ]
          },
          "metadata": {
            "tags": []
          },
          "execution_count": 26
        }
      ]
    },
    {
      "cell_type": "code",
      "metadata": {
        "id": "vuvoWa_NVbW8",
        "colab_type": "code",
        "colab": {},
        "outputId": "ca86600b-3e38-48ca-b44a-90f07e3f27a0"
      },
      "source": [
        "dt_acc,clf_fit = run_dt_classifier(new_feature_df,label_df, 0.20, True)"
      ],
      "execution_count": 0,
      "outputs": [
        {
          "output_type": "stream",
          "text": [
            "Average 10 fold cross validation score = 0.641\n",
            "Area Under Curve:  0.6421228412731573\n"
          ],
          "name": "stdout"
        },
        {
          "output_type": "display_data",
          "data": {
            "image/png": "[encoded data removed]",
            "text/plain": [
              "<matplotlib.figure.Figure at 0x7f25d95e0e48>"
            ]
          },
          "metadata": {
            "tags": [],
            "needs_background": "light"
          }
        }
      ]
    },
    {
      "cell_type": "markdown",
      "metadata": {
        "id": "ULz_0l4NVbW9",
        "colab_type": "text"
      },
      "source": [
        "We find the first precision, recall and accuracy of our Decision Tree. This is prior to tuning!"
      ]
    },
    {
      "cell_type": "code",
      "metadata": {
        "scrolled": true,
        "id": "AHKhGvpHVbW-",
        "colab_type": "code",
        "colab": {},
        "outputId": "1c261a43-ec50-4f53-90a8-d7196a6facc2"
      },
      "source": [
        "cv_predict=cross_val_predict(clf_fit, new_feature_df, label_df, cv=10)\n",
        "print(classification_report(label_df, cv_predict))"
      ],
      "execution_count": 0,
      "outputs": [
        {
          "output_type": "stream",
          "text": [
            "              precision    recall  f1-score   support\n",
            "\n",
            "           0       0.61      0.61      0.61     45879\n",
            "           1       0.67      0.67      0.67     54121\n",
            "\n",
            "    accuracy                           0.64    100000\n",
            "   macro avg       0.64      0.64      0.64    100000\n",
            "weighted avg       0.64      0.64      0.64    100000\n",
            "\n"
          ],
          "name": "stdout"
        }
      ]
    },
    {
      "cell_type": "markdown",
      "metadata": {
        "id": "nbx0nBW9VbW_",
        "colab_type": "text"
      },
      "source": [
        "## **Decision Tree Classifier**"
      ]
    },
    {
      "cell_type": "code",
      "metadata": {
        "id": "CIB_1ghgVbW_",
        "colab_type": "code",
        "colab": {},
        "outputId": "77e1cae6-1057-4af5-95ec-e0d88a0aac16"
      },
      "source": [
        "md_range=list(np.linspace(2, 10, num=5, endpoint=True,dtype = int))\n",
        "msl_range=list(np.linspace(1, 3, num=3, endpoint=True,dtype = int))\n",
        "mf_range=list(np.linspace(2, 10, num=5, endpoint=True,dtype = int))\n",
        "\n",
        "f_train, f_test, l_train, l_test = train_test_split(feature_df,label_df, test_size=.2)\n",
        "clf = DecisionTreeClassifier(criterion = 'gini')\n",
        "clf_fit= clf.fit(f_train,l_train)\n",
        "\n",
        "parameters = {'max_depth': md_range, 'min_samples_leaf': msl_range, 'max_features':mf_range}\n",
        "\n",
        "GSCV = GridSearchCV(estimator=clf_fit,param_grid=parameters,cv=5,scoring = 'accuracy',iid=True)\n",
        "GSCV_fit = GSCV.fit(f_train,l_train)\n",
        "print(\"Best parameters value for accuracy = {}\".format(GSCV_fit.best_params_))\n",
        "\n",
        "clf = DecisionTreeClassifier(max_depth=GSCV_fit.best_params_['max_depth'], min_samples_leaf=GSCV_fit.best_params_['min_samples_leaf'],\n",
        "                            max_features=GSCV_fit.best_params_['max_features'])\n",
        "print(\"Overall Average Accuracy: {}\".format(round(cross_val_score(clf, feature_df, label_df, cv=10).mean(),3)))\n",
        "#GSCV_predict_result = GSCV_fit.predict(f_test)\n",
        "cv_predict=cross_val_predict(clf, feature_df, label_df, cv=10)\n",
        "#acc = accuracy_score(l_test,GSCV_predict_result)\n",
        "\n",
        "#print(\"Decision Tree classifier with best parameter value, accuracy = {}\".format(round(acc,3)))\n",
        "\n",
        "cm = confusion_matrix(label_df,cv_predict,labels=[0,1])\n",
        "\n",
        "print(\"Confusion Matrix = \\n{}\".format(cm))\n",
        "print(classification_report(label_df, cv_predict))"
      ],
      "execution_count": 0,
      "outputs": [
        {
          "output_type": "stream",
          "text": [
            "Best parameters value for accuracy = {'max_depth': 10, 'max_features': 10, 'min_samples_leaf': 1}\n",
            "Overall Average Accuracy: 0.681\n",
            "Confusion Matrix = \n",
            "[[29267 16612]\n",
            " [15062 39059]]\n",
            "              precision    recall  f1-score   support\n",
            "\n",
            "           0       0.66      0.64      0.65     45879\n",
            "           1       0.70      0.72      0.71     54121\n",
            "\n",
            "    accuracy                           0.68    100000\n",
            "   macro avg       0.68      0.68      0.68    100000\n",
            "weighted avg       0.68      0.68      0.68    100000\n",
            "\n"
          ],
          "name": "stdout"
        }
      ]
    },
    {
      "cell_type": "markdown",
      "metadata": {
        "id": "-Brg6qzZVbXA",
        "colab_type": "text"
      },
      "source": [
        "From the cell below, we report that a Decision Tree Classifier would obtain accuracy: 0.684, precision: 0.68, and recall: 0.67. An improvement from our first trial of Decision Trees!"
      ]
    },
    {
      "cell_type": "code",
      "metadata": {
        "id": "p6nUGsBvVbXA",
        "colab_type": "code",
        "colab": {},
        "outputId": "b4a2bff4-bb08-4e06-ebe1-a9986ecbab39"
      },
      "source": [
        "cv_score = cross_val_score(GSCV_fit,new_feature_df,y=label_df,cv=5)\n",
        "print(\"Decision Tree classifier with nested cross validation, accuracy = {}\".format(round(np.mean(cv_score),3)))\n",
        "\n",
        "label_pred_nested = cross_val_predict(GSCV_fit, new_feature_df, label_df, cv=5)\n",
        "print(classification_report(label_df, label_pred_nested))"
      ],
      "execution_count": 0,
      "outputs": [
        {
          "output_type": "stream",
          "text": [
            "Decision Tree classifier with nested cross validation, accuracy = 0.684\n",
            "              precision    recall  f1-score   support\n",
            "\n",
            "           0       0.67      0.60      0.63     45879\n",
            "           1       0.69      0.74      0.72     54121\n",
            "\n",
            "    accuracy                           0.68    100000\n",
            "   macro avg       0.68      0.67      0.68    100000\n",
            "weighted avg       0.68      0.68      0.68    100000\n",
            "\n"
          ],
          "name": "stdout"
        }
      ]
    },
    {
      "cell_type": "markdown",
      "metadata": {
        "id": "IIGA2GqIVbXB",
        "colab_type": "text"
      },
      "source": [
        "## **Naive Bayes Classifier**"
      ]
    },
    {
      "cell_type": "markdown",
      "metadata": {
        "id": "NNEJT9vFVbXB",
        "colab_type": "text"
      },
      "source": [
        "Based on the following we report that a Naive Bayes classifier would have accuracy: .683, precision: .68, recall:.68"
      ]
    },
    {
      "cell_type": "code",
      "metadata": {
        "id": "sRCk8uq9VbXB",
        "colab_type": "code",
        "colab": {},
        "outputId": "4bacb01d-9f54-4eed-a9dc-7ae7abbd3e0b"
      },
      "source": [
        "nb = GaussianNB()\n",
        "scores = cross_val_score(nb, feature_df, label_df, cv=10)\n",
        "print(\"Scores: {}\".format(np.round(scores, 3)))\n",
        "print(\"Mean Accuracy for Naive Bayes, 10-fold cross validation: {}\".format(np.round(np.mean(scores), 3)))\n",
        "\n",
        "predict_labels = cross_val_predict(nb, feature_df, label_df, cv=10)\n",
        "cm = confusion_matrix(label_df, predict_labels)\n",
        "print('Confusion matrix: ')\n",
        "print(cm)\n",
        "print(classification_report(label_df, predict_labels))"
      ],
      "execution_count": 0,
      "outputs": [
        {
          "output_type": "stream",
          "text": [
            "Scores: [0.683 0.677 0.684 0.682 0.689 0.683 0.679 0.676 0.686 0.692]\n",
            "Mean Accuracy for Naive Bayes, 10-fold cross validation: 0.683\n",
            "Confusion matrix: \n",
            "[[31982 13897]\n",
            " [17797 36324]]\n",
            "              precision    recall  f1-score   support\n",
            "\n",
            "           0       0.64      0.70      0.67     45879\n",
            "           1       0.72      0.67      0.70     54121\n",
            "\n",
            "    accuracy                           0.68    100000\n",
            "   macro avg       0.68      0.68      0.68    100000\n",
            "weighted avg       0.69      0.68      0.68    100000\n",
            "\n"
          ],
          "name": "stdout"
        }
      ]
    },
    {
      "cell_type": "code",
      "metadata": {
        "id": "suVzgpydVbXC",
        "colab_type": "code",
        "colab": {},
        "outputId": "df3bd0f4-decc-4430-aaec-54ca669bf648"
      },
      "source": [
        "f_train, f_test, l_train, l_test = train_test_split(feature_df,label_df, test_size=.2)\n",
        "nb = nb.fit(f_train, l_train)\n",
        "predict_prob=nb.predict_proba(f_test)\n",
        "\n",
        "fpr, tpr, thresholds= roc_curve(l_test, predict_prob[:,1])\n",
        "\n",
        "print('AUC: ', roc_auc_score(l_test, predict_prob[:,1]))\n",
        "\n",
        "plt.plot([0,1], [0,1], 'k--')\n",
        "plt.plot(fpr, tpr, label='Naive Bayes')\n",
        "plt.xlabel('fpr')\n",
        "plt.ylabel('tpr')\n",
        "plt.title('ROC Curve for Naive Bayes')\n",
        "plt.show()"
      ],
      "execution_count": 0,
      "outputs": [
        {
          "output_type": "stream",
          "text": [
            "AUC:  0.736986326105897\n"
          ],
          "name": "stdout"
        },
        {
          "output_type": "display_data",
          "data": {
            "image/png": "[encoded data removed]",
            "text/plain": [
              "<matplotlib.figure.Figure at 0x7f73d2eed518>"
            ]
          },
          "metadata": {
            "tags": [],
            "needs_background": "light"
          }
        }
      ]
    }
  ]
}